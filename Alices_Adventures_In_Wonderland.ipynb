{
 "cells": [
  {
   "cell_type": "markdown",
   "metadata": {},
   "source": [
    "<img src=\"images/alice.jpg?raw=true\"/>"
   ]
  },
  {
   "cell_type": "markdown",
   "metadata": {},
   "source": [
    "As Alice's adventures in wonderland has taken a special place in our home, I found it a great fit to train a word2vec model, use bigrams and trigrams to include in the embeddings context around the words and to find out if similar words can be clustered to characters.\n",
    "\n",
    "Several versions are available in the gutenberg.org project. For this notebook, I'll work with the [version](http://www.gutenberg.org/ebooks/28885) publicly available on the Gutenberg project since 2009.\n",
    "\n",
    "The notebook is divided in the following steps:\n",
    "* Import libraries\n",
    "* Data load and pre-processing\n",
    "* Text pre-processing\n",
    "* Tokenization and lemmatization\n",
    "* Create bigrams and trigrams\n",
    "* Create and train a word2vec model\n",
    "* Explore similarity of words resulting from the model\n",
    "* Visualisation of similarity: are cluster of words related to characters from the book?\n"
   ]
  },
  {
   "cell_type": "markdown",
   "metadata": {},
   "source": [
    "## Import libraries"
   ]
  },
  {
   "cell_type": "code",
   "execution_count": 63,
   "metadata": {},
   "outputs": [
    {
     "name": "stdout",
     "output_type": "stream",
     "text": [
      "Libraries imported\n"
     ]
    }
   ],
   "source": [
    "import re\n",
    "import spacy\n",
    "\n",
    "from gensim.models.phrases import Phrases, Phraser\n",
    "from gensim.models import Word2Vec\n",
    "from gensim.utils import simple_preprocess\n",
    "from gensim.summarization.textcleaner import get_sentences\n",
    "\n",
    "import matplotlib\n",
    "import matplotlib.pyplot as plt\n",
    "import matplotlib.cm as cm\n",
    "%matplotlib inline\n",
    "\n",
    "from sklearn import cluster\n",
    "from sklearn import metrics\n",
    "from sklearn.manifold import TSNE\n",
    "import numpy as np\n",
    "import pandas as pd\n",
    "print(\"Libraries imported\")"
   ]
  },
  {
   "cell_type": "markdown",
   "metadata": {},
   "source": [
    "# Data load and pre-processing"
   ]
  },
  {
   "cell_type": "code",
   "execution_count": 64,
   "metadata": {},
   "outputs": [
    {
     "data": {
      "text/plain": [
       "[\"Project Gutenberg's Alice's Adventures in Wonderland, by Lewis Carroll\\n\",\n",
       " '\\n',\n",
       " 'This eBook is for the use of anyone anywhere at no cost and with\\n',\n",
       " 'almost no restrictions whatsoever.  You may copy it, give it away or\\n',\n",
       " 're-use it under the terms of the Project Gutenberg License included\\n',\n",
       " 'with this eBook or online at www.gutenberg.net\\n',\n",
       " '\\n',\n",
       " '\\n',\n",
       " \"Title: Alice's Adventures in Wonderland\\n\",\n",
       " '       Illustrated by Arthur Rackham. With a Proem by Austin Dobson\\n',\n",
       " '\\n',\n",
       " 'Author: Lewis Carroll\\n',\n",
       " '\\n',\n",
       " 'Illustrator: Arthur Rackham\\n',\n",
       " '\\n',\n",
       " 'Release Date: May 19, 2009 [EBook #28885]\\n',\n",
       " '\\n',\n",
       " 'Language: English\\n',\n",
       " '\\n',\n",
       " '\\n']"
      ]
     },
     "execution_count": 64,
     "metadata": {},
     "output_type": "execute_result"
    }
   ],
   "source": [
    "# Load raw text\n",
    "file = \"text/alice.txt\"\n",
    "with open(file, encoding='latin-1') as f:\n",
    "    book_raw_text = f.readlines()\n",
    "    \n",
    "# View the first 20 rows \n",
    "book_raw_text[:20]"
   ]
  },
  {
   "cell_type": "markdown",
   "metadata": {},
   "source": [
    "The book is structured in:\n",
    "* Preamble about the publication.\n",
    "* A poem.\n",
    "* Table of contents.\n",
    "* List of plates.\n",
    "* Twelve chapters with content.\n",
    "\n",
    "We will focus on the content in the chapters and split the book in the corresponding twelve sections. \n",
    "<br>Each chapter starts with the word \"CHAPTER\", so we will take this as basis to make the split."
   ]
  },
  {
   "cell_type": "code",
   "execution_count": 65,
   "metadata": {},
   "outputs": [
    {
     "data": {
      "text/plain": [
       "13"
      ]
     },
     "execution_count": 65,
     "metadata": {},
     "output_type": "execute_result"
    }
   ],
   "source": [
    "chapters = \"\".join(book_raw_text).split(\"CHAPTER\")\n",
    "len(chapters)"
   ]
  },
  {
   "cell_type": "markdown",
   "metadata": {},
   "source": [
    "We remove the first entry on the list of chapters as it corresponds to the preamble, poem, table of contents and list of plates."
   ]
  },
  {
   "cell_type": "code",
   "execution_count": 66,
   "metadata": {},
   "outputs": [
    {
     "data": {
      "text/plain": [
       "'Project Gutenberg\\'s Alice\\'s Adventures in Wonderland, by Lewis Carroll\\n\\nThis eBook is for the use of anyone anywhere at no cost and with\\nalmost no restrictions whatsoever.  You may copy it, give it away or\\nre-use it under the terms of the Project Gutenberg License included\\nwith this eBook or online at www.gutenberg.net\\n\\n\\nTitle: Alice\\'s Adventures in Wonderland\\n       Illustrated by Arthur Rackham. With a Proem by Austin Dobson\\n\\nAuthor: Lewis Carroll\\n\\nIllustrator: Arthur Rackham\\n\\nRelease Date: May 19, 2009 [EBook #28885]\\n\\nLanguage: English\\n\\n\\n*** START OF THIS PROJECT GUTENBERG EBOOK ALICE\\'S ADVENTURES IN WONDERLAND ***\\n\\n\\n\\n\\nProduced by Jana Srna, Emmy and the Online Distributed\\nProofreading Team at http://www.pgdp.net (This file was\\nproduced from images generously made available by the\\nUniversity of Florida Digital Collections.)\\n\\n\\n\\n\\n\\n\\n\\n\\n\\n\\n\\nALICE\\'S ADVENTURES IN WONDERLAND\\n\\n[Illustration: \"Alice\"]\\n\\n[Illustration:\\n\\n          ALICE\\'SÂ·ADVENTURES\\n          INÂ·WONDERLAND\\n          BYÂ·LEWISÂ·CARROLL\\n          ILLUSTRATEDÂ·BY\\n          ARTHURÂ·RACKHAM\\n\\n          WITH A PROEM BY AUSTIN DOBSON\\n\\n          LONDONÂ·WILLIAMÂ·HEINEMANN\\n          NEWÂ·YORKÂ·DOUBLEDAYÂ·PAGEÂ·&Â·Co]\\n\\n          PRINTED IN ENGLAND\\n\\n          _\\'Tis two score years since CARROLL\\'S art,\\n             With topsy-turvy magic,\\n           Sent ALICE wondering through a part\\n             Half-comic and half-tragic._\\n\\n          _Enchanting ALICE! Black-and-white\\n             Has made your deeds perennial;\\n           And naught save \"Chaos and old Night\"\\n             Can part you now from TENNIEL;_\\n\\n          _But still you are a Type, and based\\n             In Truth, like LEAR and HAMLET;\\n           And Types may be re-draped to taste\\n             In cloth-of-gold or camlet._\\n\\n          _Here comes afresh Costumier, then;\\n             That Taste may gain a wrinkle\\n           From him who drew with such deft pen\\n             The rags of RIP VAN WINKLE!_\\n\\n                                   _AUSTIN DOBSON._\\n\\n\\n\\n          All in the golden afternoon\\n            Full leisurely we glide;\\n          For both our oars, with little skill,\\n            By little arms are plied,\\n          While little hands make vain pretence\\n            Our wanderings to guide.\\n\\n          Ah, cruel Three! In such an hour,\\n            Beneath such dreamy weather,\\n          To beg a tale of breath too weak\\n            To stir the tiniest feather!\\n          Yet what can one poor voice avail\\n            Against three tongues together?\\n\\n          Imperious Prima flashes forth\\n            Her edict \"to begin it\"--\\n          In gentler tone Secunda hopes\\n            \"There will be nonsense in it!\"--\\n          While Tertia interrupts the tale\\n            Not _more_ than once a minute.\\n\\n          Anon, to sudden silence won,\\n            In fancy they pursue\\n          The dream-child moving through a land\\n            Of wonders wild and new,\\n          In friendly chat with bird or beast--\\n            And half believe it true.\\n\\n          And ever, as the story drained\\n            The wells of fancy dry.\\n          And faintly strove that weary one\\n            To put the subject by,\\n          \"The rest next time--\" \"It _is_ next time!\"\\n            The happy voices cry.\\n\\n          Thus grew the tale of Wonderland:\\n            Thus slowly, one by one,\\n          Its quaint events were hammered out--\\n            And now the tale is done,\\n          And home we steer, a merry crew,\\n            Beneath the setting sun.\\n\\n          Alice! a childish story take,\\n            And with a gentle hand\\n          Lay it where Childhood\\'s dreams are twined\\n            In Memory\\'s mystic band,\\n          Like pilgrim\\'s wither\\'d wreath of flowers\\n            Pluck\\'d in a far-off land.\\n\\n\\n\\n\\nCONTENTS\\n\\n\\n                                                      PAGE\\n\\n             I. DOWN THE RABBIT-HOLE                     1\\n\\n            II. THE POOL OF TEARS                       13\\n\\n           III. A CAUCUS-RACE AND A LONG TALE           24\\n\\n            IV. THE RABBIT SENDS IN A LITTLE BILL       35\\n\\n             V. ADVICE FROM A CATERPILLAR               49\\n\\n            VI. PIG AND PEPPER                          64\\n\\n           VII. A MAD TEA-PARTY                         82\\n\\n          VIII. THE QUEEN\\'S CROQUET-GROUND              96\\n\\n            IX. THE MOCK TURTLE\\'S STORY                111\\n\\n             X. THE LOBSTER QUADRILLE                  126\\n\\n            XI. WHO STOLE THE TARTS?                   139\\n\\n           XII. ALICE\\'S EVIDENCE                       150\\n\\n\\n\\n\\nLIST OF THE PLATES\\n\\n\\n                                            _To face page_\\n\\n          Alice                             _Frontispiece_\\n\\n          The Pool of Tears                             22\\n\\n          They all crowded round it panting and\\n             asking, \"But who has won?\"                 28\\n\\n          \"Why, Mary Ann, what are you doing out\\n             here?\"                                     36\\n\\n          Advice from a Caterpillar                     50\\n\\n          An unusually large saucepan flew close\\n             by it, and very nearly carried it off      70\\n\\n          It grunted again so violently that she\\n             looked down into its face in some alarm    74\\n\\n          A Mad Tea-Party                               84\\n\\n          The Queen turned angrily away from him\\n             and said to the Knave, \"Turn them over\"   100\\n\\n          The Queen never left off quarrelling\\n             with the other players, and shouting\\n             \"Off with his head!\" or, \"Off with her\\n             head!\"                                    116\\n\\n          The Mock Turtle drew a long breath and\\n             said, \"That\\'s very curious\"               132\\n\\n          Who stole the Tarts?                         140\\n\\n          At this the whole pack rose up into the\\n             air, and came flying down upon her        158\\n\\n\\n\\n\\n'"
      ]
     },
     "execution_count": 66,
     "metadata": {},
     "output_type": "execute_result"
    }
   ],
   "source": [
    "chapters.pop(0)"
   ]
  },
  {
   "cell_type": "code",
   "execution_count": 67,
   "metadata": {},
   "outputs": [
    {
     "data": {
      "text/plain": [
       "12"
      ]
     },
     "execution_count": 67,
     "metadata": {},
     "output_type": "execute_result"
    }
   ],
   "source": [
    "num_chapters = len(chapters)\n",
    "num_chapters"
   ]
  },
  {
   "cell_type": "markdown",
   "metadata": {},
   "source": [
    "Tha last chapter contains additional license information after the end of the story which is marked with \"THE END\". As this additional information is not relevant to the story, we will split it to separate the story from the licensing info and subsequently we will replace the last chapter with the content that is relevant to the story."
   ]
  },
  {
   "cell_type": "code",
   "execution_count": 68,
   "metadata": {},
   "outputs": [
    {
     "data": {
      "text/plain": [
       "' XII\\n\\n\\n[Sidenote: _Alice\\'s Evidence_]\\n\\n\"HERE!\" cried Alice, quite forgetting in the flurry of\\nthe moment how large she had grown in the last few minutes, and she\\njumped up in such a hurry that she tipped over the jury-box with the\\nedge of her skirt, upsetting all the jurymen on to the heads of the\\ncrowd below, and there they lay sprawling about, reminding her very much\\nof a globe of gold-fish she had accidentally upset the week before.\\n\\n\"Oh, I _beg_ your pardon!\" she exclaimed in a tone of great dismay, and\\nbegan picking them up again as quickly as she could, for the accident of\\nthe gold-fish kept running in her head, and she had a vague sort of idea\\nthat they must be collected at once and put back into the jury-box, or\\nthey would die.\\n\\n\"The trial cannot proceed,\" said the King in a very grave voice, \"until\\nall the jurymen are back in their proper places--_all_,\" he repeated\\nwith great emphasis, looking hard at Alice as he said so.\\n\\nAlice looked at the jury-box, and saw that, in her haste, she had put\\nthe Lizard in head downwards, and the poor little thing was waving its\\ntail about in a melancholy way, being quite unable to move. She soon got\\nit out again, and put it right; \"not that it signifies much,\" she said\\nto herself; \"I should think it would be _quite_ as much use in the trial\\none way up as the other.\"\\n\\nAs soon as the jury had a little recovered from the shock of being\\nupset, and their slates and pencils had been found and handed back to\\nthem, they set to work very diligently to write out a history of the\\naccident, all except the Lizard, who seemed too much overcome to do\\nanything but sit with its mouth open, gazing up into the roof of the\\ncourt.\\n\\n\"What do you know about this business?\" the King said to Alice.\\n\\n\"Nothing,\" said Alice.\\n\\n\"Nothing _whatever_?\" persisted the King.\\n\\n\"Nothing whatever,\" said Alice.\\n\\n\"That\\'s very important,\" the King said, turning to the jury. They were\\njust beginning to write this down on their slates, when the White Rabbit\\ninterrupted: \"_Un_important, your Majesty means, of course,\" he said in\\na very respectful tone, but frowning and making faces at him as he\\nspoke.\\n\\n\"_Un_important, of course, I meant,\" the King hastily said, and went on\\nhimself in an undertone,\"important--unimportant--unimportant--important----\"\\nas if he were trying which word sounded best.\\n\\nSome of the jury wrote it down \"important,\" and some \"unimportant.\"\\nAlice could see this, as she was near enough to look over their slates;\\n\"but it doesn\\'t matter a bit,\" she thought to herself.\\n\\nAt this moment the King, who had been for some time busily writing in\\nhis note-book, called out \"Silence!\" and read out from his book, \"Rule\\nForty-two. _All persons more than a mile high to leave the court._\"\\n\\nEverybody looked at Alice.\\n\\n\"_I\\'m_ not a mile high,\" said Alice.\\n\\n\"You are,\" said the King.\\n\\n\"Nearly two miles high,\" added the Queen.\\n\\n\"Well, I sha\\'n\\'t go, at any rate,\" said Alice: \"besides, that\\'s not a\\nregular rule: you invented it just now.\"\\n\\n\"It\\'s the oldest rule in the book,\" said the King.\\n\\n\"Then it ought to be Number One,\" said Alice.\\n\\nThe King turned pale, and shut his note-book hastily. \"Consider your\\nverdict,\" he said to the jury, in a low trembling voice.\\n\\n\"There\\'s more evidence to come yet, please your Majesty,\" said the White\\nRabbit, jumping up in a great hurry: \"this paper has just been picked\\nup.\"\\n\\n\"What\\'s in it?\" said the Queen.\\n\\n\"I haven\\'t opened it yet,\" said the White Rabbit, \"but it seems to be a\\nletter, written by the prisoner to--to somebody.\"\\n\\n\"It must have been that,\" said the King, \"unless it was written to\\nnobody, which isn\\'t usual, you know.\"\\n\\n\"Who is it directed to?\" said one of the jurymen.\\n\\n\"It isn\\'t directed at all,\" said the White Rabbit; \"in fact, there\\'s\\nnothing written on the _outside_.\" He unfolded the paper as he spoke,\\nand added \"It isn\\'t a letter after all: it\\'s a set of verses.\"\\n\\n\"Are they in the prisoner\\'s handwriting?\" asked another of the jurymen.\\n\\n\"No, they\\'re not,\" said the White Rabbit, \"and that\\'s the queerest thing\\nabout it.\" (The jury all looked puzzled.)\\n\\n\"He must have imitated somebody else\\'s hand,\" said the King. (The jury\\nall brightened up again.)\\n\\n\"Please your Majesty,\" said the Knave, \"I didn\\'t write it, and they\\ncan\\'t prove that I did: there\\'s no name signed at the end.\"\\n\\n\"If you didn\\'t sign it,\" said the King, \"that only makes the matter\\nworse. You _must_ have meant some mischief, or else you\\'d have signed\\nyour name like an honest man.\"\\n\\nThere was a general clapping of hands at this: it was the first really\\nclever thing the King had said that day.\\n\\n\"That _proves_ his guilt, of course,\" said the Queen: \"so, off with----\"\\n\\n\"It doesn\\'t prove anything of the sort!\" said Alice. \"Why, you don\\'t\\neven know what they\\'re about!\"\\n\\n\"Read them,\" said the King.\\n\\nThe White Rabbit put on his spectacles. \"Where shall I begin, please\\nyour Majesty?\" he asked.\\n\\n\"Begin at the beginning,\" the King said gravely, \"and go on till you\\ncome to the end; then stop.\"\\n\\nThere was dead silence in the court, whilst the White Rabbit read out\\nthese verses:--\\n\\n          \"They told me you had been to her,\\n             And mentioned me to him:\\n           She gave me a good character,\\n             But said I could not swim.\\n\\n           He sent them word I had not gone,\\n             (We know it to be true):\\n           If she should push the matter on,\\n             What would become of you?\\n\\n           I gave her one, they gave him two,\\n             You gave us three or more;\\n           They all returned from him to you,\\n             Though they were mine before.\\n\\n           If I or she should chance to be\\n             Involved in this affair,\\n           He trusts to you to set them free,\\n             Exactly as we were.\\n\\n           My notion was that you had been\\n             (Before she had this fit)\\n           An obstacle that came between\\n             Him, and ourselves, and it.\\n\\n           Don\\'t let him know she liked them best,\\n             For this must ever be\\n           A secret, kept from all the rest,\\n             Between yourself and me.\"\\n\\n\"That\\'s the most important piece of evidence we\\'ve heard yet,\" said the\\nKing, rubbing his hands; \"so now let the jury----\"\\n\\n\"If any of them can explain it,\" said Alice, (she had grown so large in\\nthe last few minutes that she wasn\\'t a bit afraid of interrupting him,)\\n\"I\\'ll give him sixpence. _I_ don\\'t believe there\\'s an atom of meaning in\\nit.\"\\n\\nThe jury all wrote down on their slates, \"_She_ doesn\\'t believe there\\'s\\nan atom of meaning in it,\" but none of them attempted to explain the\\npaper.\\n\\n\"If there\\'s no meaning in it,\" said the King, \"that saves a world of\\ntrouble, you know, as we needn\\'t try to find any. And yet I don\\'t\\nknow,\" he went on, spreading out the verses on his knee, and looking at\\nthem with one eye; \"I seem to see some meaning in them after all.\\n\\'----_said I could not swim_--\\' you can\\'t swim can you?\" he added,\\nturning to the Knave.\\n\\nThe Knave shook his head sadly. \"Do I look like it?\" he said. (Which he\\ncertainly did _not_, being made entirely of cardboard.)\\n\\n\"All right, so far,\" said the King, as he went on muttering over the\\nverses to himself: \"\\'_We know it to be true_--\\' that\\'s the jury, of\\ncourse--\\'_If she should push the matter on_\\'--that must be the\\nQueen--\\'_What would become of you?_\\'--What, indeed!--\\'_I gave her one,\\nthey gave him two_--\\' why, that must be what he did with the tarts, you\\nknow----\"\\n\\n\"But it goes on \\'_they all returned from him to you_,\\'\" said Alice.\\n\\n\"Why, there they are!\" said the King triumphantly, pointing to the tarts\\non the table. \"Nothing can be clearer than _that_. Then again--\\'_before\\nshe had this fit_--\\' you never had _fits_, my dear, I think?\" he said to\\nthe Queen.\\n\\n\"Never!\" said the Queen furiously, throwing an inkstand at the Lizard\\nas she spoke. (The unfortunate little Bill had left off writing on his\\nslate with one finger, as he found it made no mark; but he now hastily\\nbegan again, using the ink, that was trickling down his face, as long as\\nit lasted.)\\n\\n\"Then the words don\\'t _fit_ you,\" said the King, looking round the court\\nwith a smile. There was a dead silence.\\n\\n\"It\\'s a pun!\" the King added in an angry tone, and everybody laughed.\\n\\n\"Let the jury consider their verdict,\" the King said, for about the\\ntwentieth time that day.\\n\\n\"No, no!\" said the Queen. \"Sentence first--verdict afterwards.\"\\n\\n\"Stuff and nonsense!\" said Alice loudly. \"The idea of having the\\nsentence first!\"\\n\\n\"Hold your tongue!\" said the Queen, turning purple.\\n\\n\"I won\\'t!\" said Alice.\\n\\n\"Off with her head!\" the Queen shouted at the top of her voice. Nobody\\nmoved.\\n\\n\"Who cares for _you_?\" said Alice (she had grown to her full size by\\nthis time). \"You\\'re nothing but a pack of cards!\"\\n\\n[Illustration: _At this the whole pack rose up into the air, and came\\nflying down upon her_]\\n\\nAt this the whole pack rose up into the air, and came flying down upon\\nher: she gave a little scream, half of fright and half of anger, and\\ntried to beat them off, and found herself lying on the bank, with her\\nhead in the lap of her sister, who was gently brushing away some dead\\nleaves that had fluttered down from the trees upon her face.\\n\\n\"Wake up, Alice dear!\" said her sister. \"Why, what a long sleep you\\'ve\\nhad!\"\\n\\n\"Oh, I\\'ve had such a curious dream!\" said Alice, and she told her\\nsister, as well as she could remember them, all these strange Adventures\\nof hers that you have just been reading about; and when she had\\nfinished, her sister kissed her, and said \"It _was_ a curious dream,\\ndear, certainly: but now run in to your tea; it\\'s getting late.\" So\\nAlice got up and ran off, thinking while she ran, as well she might,\\nwhat a wonderful dream it had been.\\n\\n\\n\\n\\nBUT her sister sat still just as she had left her, leaning her head,\\nwatching the setting sun, and thinking of little Alice and all her\\nwonderful Adventures, till she too began dreaming after a fashion, and\\nthis was her dream:\\n\\nFirst, she dreamed of little Alice herself, and once again the tiny\\nhands were clasped upon her knee, and the bright eager eyes were looking\\nup into hers--she could hear the very tones of her voice, and see that\\nqueer little toss of her head to keep back the wandering hair that\\n_would_ always get into her eyes--and still as she listened, or seemed\\nto listen, the whole place around her became alive with the strange\\ncreatures of her little sister\\'s dream.\\n\\nThe long grass rustled at her feet as the White Rabbit hurried by--the\\nfrightened Mouse splashed his way through the neighbouring pool--she\\ncould hear the rattle of the teacups as the March Hare and his friends\\nshared their never-ending meal, and the shrill voice of the Queen\\nordering off her unfortunate guests to execution--once more the pig-baby\\nwas sneezing on the Duchess\\' knee, while plates and dishes crashed\\naround it--once more the shriek of the Gryphon, the squeaking of the\\nLizard\\'s slate-pencil, and the choking of the suppressed guinea-pigs,\\nfilled the air, mixed up with the distant sobs of the miserable Mock\\nTurtle.\\n\\nSo she sat on with closed eyes, and half believed herself in Wonderland,\\nthough she knew she had but to open them again, and all would change to\\ndull reality--the grass would be only rustling in the wind, and the pool\\nrippling to the waving of the reeds--the rattling teacups would change\\nto the tinkling sheep-bells, and the Queen\\'s shrill cries to the voice\\nof the shepherd boy--and the sneeze of the baby, the shriek of the\\nGryphon, and all the other queer noises, would change (she knew) to the\\nconfused clamour of the busy farm-yard--while the lowing of the cattle\\nin the distance would take the place of the Mock Turtle\\'s heavy sobs.\\n\\nLastly, she pictured to herself how this same little sister of hers\\nwould, in the after-time, be herself a grown woman; and how she would\\nkeep, through all her riper years, the simple and loving heart of her\\nchildhood: and how she would gather about her other little children,\\nand make _their_ eyes bright and eager with many a strange tale, perhaps\\neven with the dream of Wonderland of long ago: and how she would feel\\nwith all their simple sorrows, and find a pleasure in all their simple\\njoys, remembering her own child-life, and the happy summer days.\\n\\n\\nTHE END\\n\\n\\n\\n\\n          ILLUSTRATIONS REPRODUCED BY HENTSCHEL COLOURTYPE\\n              TEXT PRINTED BY BALLANTYNE & COMPANY LTD\\n                       AT THE BALLANTYNE PRESS\\n                           TAVISTOCK STREET\\n                                 LONDON\\n\\n       *       *       *       *       *\\n\\nTranscriber\\'s Notes:\\n\\nPage 8, opening quote added to text (doorway; \"and even if)\\n\\nPage 33, \"she\" changed to \"she\\'s\" (And she\\'s such a)\\n\\nPage 37, \"quiet\" changed to \"quite\" (I\\'m quite tired of)\\n\\nPage 41, colon changed to period (arm, yer honour.)\\n\\nPage 42, \"wont\" changed to \"want\" (want to stay)\\n\\nPage 66, closing quotation mark added (to-morrow----\")\\n\\nPage 69, single quotation mark changed to double (cat,\" said the\\nDuchess)\\n\\nPage 91, word \"to\" added to text (minute or two to)\\n\\nPage 103, word \"as\" added to the text (just as she had)\\n\\nPage 104, \"hedge-hog\" changed to \"hedgehog\" (send the hedgehog to)\\n\\nPage 126, end parenthesis added (\"No, never\")\\n\\nPage 153, added an apostrophe (What\\'s in it?)\\n\\n\\n\\n\\n\\n\\nEnd of Project Gutenberg\\'s Alice\\'s Adventures in Wonderland, by Lewis Carroll\\n\\n*** END OF THIS PROJECT GUTENBERG EBOOK ALICE\\'S ADVENTURES IN WONDERLAND ***\\n\\n***** This file should be named 28885-8.txt or 28885-8.zip *****\\nThis and all associated files of various formats will be found in:\\n        http://www.gutenberg.org/2/8/8/8/28885/\\n\\nProduced by Jana Srna, Emmy and the Online Distributed\\nProofreading Team at http://www.pgdp.net (This file was\\nproduced from images generously made available by the\\nUniversity of Florida Digital Collections.)\\n\\n\\nUpdated editions will replace the previous one--the old editions\\nwill be renamed.\\n\\nCreating the works from public domain print editions means that no\\none owns a United States copyright in these works, so the Foundation\\n(and you!) can copy and distribute it in the United States without\\npermission and without paying copyright royalties.  Special rules,\\nset forth in the General Terms of Use part of this license, apply to\\ncopying and distributing Project Gutenberg-tm electronic works to\\nprotect the PROJECT GUTENBERG-tm concept and trademark.  Project\\nGutenberg is a registered trademark, and may not be used if you\\ncharge for the eBooks, unless you receive specific permission.  If you\\ndo not charge anything for copies of this eBook, complying with the\\nrules is very easy.  You may use this eBook for nearly any purpose\\nsuch as creation of derivative works, reports, performances and\\nresearch.  They may be modified and printed and given away--you may do\\npractically ANYTHING with public domain eBooks.  Redistribution is\\nsubject to the trademark license, especially commercial\\nredistribution.\\n\\n\\n\\n*** START: FULL LICENSE ***\\n\\nTHE FULL PROJECT GUTENBERG LICENSE\\nPLEASE READ THIS BEFORE YOU DISTRIBUTE OR USE THIS WORK\\n\\nTo protect the Project Gutenberg-tm mission of promoting the free\\ndistribution of electronic works, by using or distributing this work\\n(or any other work associated in any way with the phrase \"Project\\nGutenberg\"), you agree to comply with all the terms of the Full Project\\nGutenberg-tm License (available with this file or online at\\nhttp://gutenberg.net/license).\\n\\n\\nSection 1.  General Terms of Use and Redistributing Project Gutenberg-tm\\nelectronic works\\n\\n1.A.  By reading or using any part of this Project Gutenberg-tm\\nelectronic work, you indicate that you have read, understand, agree to\\nand accept all the terms of this license and intellectual property\\n(trademark/copyright) agreement.  If you do not agree to abide by all\\nthe terms of this agreement, you must cease using and return or destroy\\nall copies of Project Gutenberg-tm electronic works in your possession.\\nIf you paid a fee for obtaining a copy of or access to a Project\\nGutenberg-tm electronic work and you do not agree to be bound by the\\nterms of this agreement, you may obtain a refund from the person or\\nentity to whom you paid the fee as set forth in paragraph 1.E.8.\\n\\n1.B.  \"Project Gutenberg\" is a registered trademark.  It may only be\\nused on or associated in any way with an electronic work by people who\\nagree to be bound by the terms of this agreement.  There are a few\\nthings that you can do with most Project Gutenberg-tm electronic works\\neven without complying with the full terms of this agreement.  See\\nparagraph 1.C below.  There are a lot of things you can do with Project\\nGutenberg-tm electronic works if you follow the terms of this agreement\\nand help preserve free future access to Project Gutenberg-tm electronic\\nworks.  See paragraph 1.E below.\\n\\n1.C.  The Project Gutenberg Literary Archive Foundation (\"the Foundation\"\\nor PGLAF), owns a compilation copyright in the collection of Project\\nGutenberg-tm electronic works.  Nearly all the individual works in the\\ncollection are in the public domain in the United States.  If an\\nindividual work is in the public domain in the United States and you are\\nlocated in the United States, we do not claim a right to prevent you from\\ncopying, distributing, performing, displaying or creating derivative\\nworks based on the work as long as all references to Project Gutenberg\\nare removed.  Of course, we hope that you will support the Project\\nGutenberg-tm mission of promoting free access to electronic works by\\nfreely sharing Project Gutenberg-tm works in compliance with the terms of\\nthis agreement for keeping the Project Gutenberg-tm name associated with\\nthe work.  You can easily comply with the terms of this agreement by\\nkeeping this work in the same format with its attached full Project\\nGutenberg-tm License when you share it without charge with others.\\n\\n1.D.  The copyright laws of the place where you are located also govern\\nwhat you can do with this work.  Copyright laws in most countries are in\\na constant state of change.  If you are outside the United States, check\\nthe laws of your country in addition to the terms of this agreement\\nbefore downloading, copying, displaying, performing, distributing or\\ncreating derivative works based on this work or any other Project\\nGutenberg-tm work.  The Foundation makes no representations concerning\\nthe copyright status of any work in any country outside the United\\nStates.\\n\\n1.E.  Unless you have removed all references to Project Gutenberg:\\n\\n1.E.1.  The following sentence, with active links to, or other immediate\\naccess to, the full Project Gutenberg-tm License must appear prominently\\nwhenever any copy of a Project Gutenberg-tm work (any work on which the\\nphrase \"Project Gutenberg\" appears, or with which the phrase \"Project\\nGutenberg\" is associated) is accessed, displayed, performed, viewed,\\ncopied or distributed:\\n\\nThis eBook is for the use of anyone anywhere at no cost and with\\nalmost no restrictions whatsoever.  You may copy it, give it away or\\nre-use it under the terms of the Project Gutenberg License included\\nwith this eBook or online at www.gutenberg.net\\n\\n1.E.2.  If an individual Project Gutenberg-tm electronic work is derived\\nfrom the public domain (does not contain a notice indicating that it is\\nposted with permission of the copyright holder), the work can be copied\\nand distributed to anyone in the United States without paying any fees\\nor charges.  If you are redistributing or providing access to a work\\nwith the phrase \"Project Gutenberg\" associated with or appearing on the\\nwork, you must comply either with the requirements of paragraphs 1.E.1\\nthrough 1.E.7 or obtain permission for the use of the work and the\\nProject Gutenberg-tm trademark as set forth in paragraphs 1.E.8 or\\n1.E.9.\\n\\n1.E.3.  If an individual Project Gutenberg-tm electronic work is posted\\nwith the permission of the copyright holder, your use and distribution\\nmust comply with both paragraphs 1.E.1 through 1.E.7 and any additional\\nterms imposed by the copyright holder.  Additional terms will be linked\\nto the Project Gutenberg-tm License for all works posted with the\\npermission of the copyright holder found at the beginning of this work.\\n\\n1.E.4.  Do not unlink or detach or remove the full Project Gutenberg-tm\\nLicense terms from this work, or any files containing a part of this\\nwork or any other work associated with Project Gutenberg-tm.\\n\\n1.E.5.  Do not copy, display, perform, distribute or redistribute this\\nelectronic work, or any part of this electronic work, without\\nprominently displaying the sentence set forth in paragraph 1.E.1 with\\nactive links or immediate access to the full terms of the Project\\nGutenberg-tm License.\\n\\n1.E.6.  You may convert to and distribute this work in any binary,\\ncompressed, marked up, nonproprietary or proprietary form, including any\\nword processing or hypertext form.  However, if you provide access to or\\ndistribute copies of a Project Gutenberg-tm work in a format other than\\n\"Plain Vanilla ASCII\" or other format used in the official version\\nposted on the official Project Gutenberg-tm web site (www.gutenberg.net),\\nyou must, at no additional cost, fee or expense to the user, provide a\\ncopy, a means of exporting a copy, or a means of obtaining a copy upon\\nrequest, of the work in its original \"Plain Vanilla ASCII\" or other\\nform.  Any alternate format must include the full Project Gutenberg-tm\\nLicense as specified in paragraph 1.E.1.\\n\\n1.E.7.  Do not charge a fee for access to, viewing, displaying,\\nperforming, copying or distributing any Project Gutenberg-tm works\\nunless you comply with paragraph 1.E.8 or 1.E.9.\\n\\n1.E.8.  You may charge a reasonable fee for copies of or providing\\naccess to or distributing Project Gutenberg-tm electronic works provided\\nthat\\n\\n- You pay a royalty fee of 20% of the gross profits you derive from\\n     the use of Project Gutenberg-tm works calculated using the method\\n     you already use to calculate your applicable taxes.  The fee is\\n     owed to the owner of the Project Gutenberg-tm trademark, but he\\n     has agreed to donate royalties under this paragraph to the\\n     Project Gutenberg Literary Archive Foundation.  Royalty payments\\n     must be paid within 60 days following each date on which you\\n     prepare (or are legally required to prepare) your periodic tax\\n     returns.  Royalty payments should be clearly marked as such and\\n     sent to the Project Gutenberg Literary Archive Foundation at the\\n     address specified in Section 4, \"Information about donations to\\n     the Project Gutenberg Literary Archive Foundation.\"\\n\\n- You provide a full refund of any money paid by a user who notifies\\n     you in writing (or by e-mail) within 30 days of receipt that s/he\\n     does not agree to the terms of the full Project Gutenberg-tm\\n     License.  You must require such a user to return or\\n     destroy all copies of the works possessed in a physical medium\\n     and discontinue all use of and all access to other copies of\\n     Project Gutenberg-tm works.\\n\\n- You provide, in accordance with paragraph 1.F.3, a full refund of any\\n     money paid for a work or a replacement copy, if a defect in the\\n     electronic work is discovered and reported to you within 90 days\\n     of receipt of the work.\\n\\n- You comply with all other terms of this agreement for free\\n     distribution of Project Gutenberg-tm works.\\n\\n1.E.9.  If you wish to charge a fee or distribute a Project Gutenberg-tm\\nelectronic work or group of works on different terms than are set\\nforth in this agreement, you must obtain permission in writing from\\nboth the Project Gutenberg Literary Archive Foundation and Michael\\nHart, the owner of the Project Gutenberg-tm trademark.  Contact the\\nFoundation as set forth in Section 3 below.\\n\\n1.F.\\n\\n1.F.1.  Project Gutenberg volunteers and employees expend considerable\\neffort to identify, do copyright research on, transcribe and proofread\\npublic domain works in creating the Project Gutenberg-tm\\ncollection.  Despite these efforts, Project Gutenberg-tm electronic\\nworks, and the medium on which they may be stored, may contain\\n\"Defects,\" such as, but not limited to, incomplete, inaccurate or\\ncorrupt data, transcription errors, a copyright or other intellectual\\nproperty infringement, a defective or damaged disk or other medium, a\\ncomputer virus, or computer codes that damage or cannot be read by\\nyour equipment.\\n\\n1.F.2.  LIMITED WARRANTY, DISCLAIMER OF DAMAGES - Except for the \"Right\\nof Replacement or Refund\" described in paragraph 1.F.3, the Project\\nGutenberg Literary Archive Foundation, the owner of the Project\\nGutenberg-tm trademark, and any other party distributing a Project\\nGutenberg-tm electronic work under this agreement, disclaim all\\nliability to you for damages, costs and expenses, including legal\\nfees.  YOU AGREE THAT YOU HAVE NO REMEDIES FOR NEGLIGENCE, STRICT\\nLIABILITY, BREACH OF WARRANTY OR BREACH OF CONTRACT EXCEPT THOSE\\nPROVIDED IN PARAGRAPH F3.  YOU AGREE THAT THE FOUNDATION, THE\\nTRADEMARK OWNER, AND ANY DISTRIBUTOR UNDER THIS AGREEMENT WILL NOT BE\\nLIABLE TO YOU FOR ACTUAL, DIRECT, INDIRECT, CONSEQUENTIAL, PUNITIVE OR\\nINCIDENTAL DAMAGES EVEN IF YOU GIVE NOTICE OF THE POSSIBILITY OF SUCH\\nDAMAGE.\\n\\n1.F.3.  LIMITED RIGHT OF REPLACEMENT OR REFUND - If you discover a\\ndefect in this electronic work within 90 days of receiving it, you can\\nreceive a refund of the money (if any) you paid for it by sending a\\nwritten explanation to the person you received the work from.  If you\\nreceived the work on a physical medium, you must return the medium with\\nyour written explanation.  The person or entity that provided you with\\nthe defective work may elect to provide a replacement copy in lieu of a\\nrefund.  If you received the work electronically, the person or entity\\nproviding it to you may choose to give you a second opportunity to\\nreceive the work electronically in lieu of a refund.  If the second copy\\nis also defective, you may demand a refund in writing without further\\nopportunities to fix the problem.\\n\\n1.F.4.  Except for the limited right of replacement or refund set forth\\nin paragraph 1.F.3, this work is provided to you \\'AS-IS\\' WITH NO OTHER\\nWARRANTIES OF ANY KIND, EXPRESS OR IMPLIED, INCLUDING BUT NOT LIMITED TO\\nWARRANTIES OF MERCHANTIBILITY OR FITNESS FOR ANY PURPOSE.\\n\\n1.F.5.  Some states do not allow disclaimers of certain implied\\nwarranties or the exclusion or limitation of certain types of damages.\\nIf any disclaimer or limitation set forth in this agreement violates the\\nlaw of the state applicable to this agreement, the agreement shall be\\ninterpreted to make the maximum disclaimer or limitation permitted by\\nthe applicable state law.  The invalidity or unenforceability of any\\nprovision of this agreement shall not void the remaining provisions.\\n\\n1.F.6.  INDEMNITY - You agree to indemnify and hold the Foundation, the\\ntrademark owner, any agent or employee of the Foundation, anyone\\nproviding copies of Project Gutenberg-tm electronic works in accordance\\nwith this agreement, and any volunteers associated with the production,\\npromotion and distribution of Project Gutenberg-tm electronic works,\\nharmless from all liability, costs and expenses, including legal fees,\\nthat arise directly or indirectly from any of the following which you do\\nor cause to occur: (a) distribution of this or any Project Gutenberg-tm\\nwork, (b) alteration, modification, or additions or deletions to any\\nProject Gutenberg-tm work, and (c) any Defect you cause.\\n\\n\\nSection  2.  Information about the Mission of Project Gutenberg-tm\\n\\nProject Gutenberg-tm is synonymous with the free distribution of\\nelectronic works in formats readable by the widest variety of computers\\nincluding obsolete, old, middle-aged and new computers.  It exists\\nbecause of the efforts of hundreds of volunteers and donations from\\npeople in all walks of life.\\n\\nVolunteers and financial support to provide volunteers with the\\nassistance they need are critical to reaching Project Gutenberg-tm\\'s\\ngoals and ensuring that the Project Gutenberg-tm collection will\\nremain freely available for generations to come.  In 2001, the Project\\nGutenberg Literary Archive Foundation was created to provide a secure\\nand permanent future for Project Gutenberg-tm and future generations.\\nTo learn more about the Project Gutenberg Literary Archive Foundation\\nand how your efforts and donations can help, see Sections 3 and 4\\nand the Foundation web page at http://www.pglaf.org.\\n\\n\\nSection 3.  Information about the Project Gutenberg Literary Archive\\nFoundation\\n\\nThe Project Gutenberg Literary Archive Foundation is a non profit\\n501(c)(3) educational corporation organized under the laws of the\\nstate of Mississippi and granted tax exempt status by the Internal\\nRevenue Service.  The Foundation\\'s EIN or federal tax identification\\nnumber is 64-6221541.  Its 501(c)(3) letter is posted at\\nhttp://pglaf.org/fundraising.  Contributions to the Project Gutenberg\\nLiterary Archive Foundation are tax deductible to the full extent\\npermitted by U.S. federal laws and your state\\'s laws.\\n\\nThe Foundation\\'s principal office is located at 4557 Melan Dr. S.\\nFairbanks, AK, 99712., but its volunteers and employees are scattered\\nthroughout numerous locations.  Its business office is located at\\n809 North 1500 West, Salt Lake City, UT 84116, (801) 596-1887, email\\nbusiness@pglaf.org.  Email contact links and up to date contact\\ninformation can be found at the Foundation\\'s web site and official\\npage at http://pglaf.org\\n\\nFor additional contact information:\\n     Dr. Gregory B. Newby\\n     Chief Executive and Director\\n     gbnewby@pglaf.org\\n\\n\\nSection 4.  Information about Donations to the Project Gutenberg\\nLiterary Archive Foundation\\n\\nProject Gutenberg-tm depends upon and cannot survive without wide\\nspread public support and donations to carry out its mission of\\nincreasing the number of public domain and licensed works that can be\\nfreely distributed in machine readable form accessible by the widest\\narray of equipment including outdated equipment.  Many small donations\\n($1 to $5,000) are particularly important to maintaining tax exempt\\nstatus with the IRS.\\n\\nThe Foundation is committed to complying with the laws regulating\\ncharities and charitable donations in all 50 states of the United\\nStates.  Compliance requirements are not uniform and it takes a\\nconsiderable effort, much paperwork and many fees to meet and keep up\\nwith these requirements.  We do not solicit donations in locations\\nwhere we have not received written confirmation of compliance.  To\\nSEND DONATIONS or determine the status of compliance for any\\nparticular state visit http://pglaf.org\\n\\nWhile we cannot and do not solicit contributions from states where we\\nhave not met the solicitation requirements, we know of no prohibition\\nagainst accepting unsolicited donations from donors in such states who\\napproach us with offers to donate.\\n\\nInternational donations are gratefully accepted, but we cannot make\\nany statements concerning tax treatment of donations received from\\noutside the United States.  U.S. laws alone swamp our small staff.\\n\\nPlease check the Project Gutenberg Web pages for current donation\\nmethods and addresses.  Donations are accepted in a number of other\\nways including including checks, online payments and credit card\\ndonations.  To donate, please visit: http://pglaf.org/donate\\n\\n\\nSection 5.  General Information About Project Gutenberg-tm electronic\\nworks.\\n\\nProfessor Michael S. Hart is the originator of the Project Gutenberg-tm\\nconcept of a library of electronic works that could be freely shared\\nwith anyone.  For thirty years, he produced and distributed Project\\nGutenberg-tm eBooks with only a loose network of volunteer support.\\n\\n\\nProject Gutenberg-tm eBooks are often created from several printed\\neditions, all of which are confirmed as Public Domain in the U.S.\\nunless a copyright notice is included.  Thus, we do not necessarily\\nkeep eBooks in compliance with any particular paper edition.\\n\\n\\nMost people start at our Web site which has the main PG search facility:\\n\\n     http://www.gutenberg.net\\n\\nThis Web site includes information about Project Gutenberg-tm,\\nincluding how to make donations to the Project Gutenberg Literary\\nArchive Foundation, how to help produce our new eBooks, and how to\\nsubscribe to our email newsletter to hear about new eBooks.\\n'"
      ]
     },
     "execution_count": 68,
     "metadata": {},
     "output_type": "execute_result"
    }
   ],
   "source": [
    "chapters[num_chapters - 1]"
   ]
  },
  {
   "cell_type": "code",
   "execution_count": 69,
   "metadata": {},
   "outputs": [],
   "source": [
    "end = chapters[num_chapters - 1].split(\"THE END\")\n",
    "chapters[len(chapters)-1] = end[0]"
   ]
  },
  {
   "cell_type": "code",
   "execution_count": 70,
   "metadata": {},
   "outputs": [],
   "source": [
    "#chapters[num_chapters - 1]"
   ]
  },
  {
   "cell_type": "code",
   "execution_count": 71,
   "metadata": {},
   "outputs": [
    {
     "name": "stdout",
     "output_type": "stream",
     "text": [
      " I\n",
      "\n",
      "\n",
      "[Sidenote: _Down the Rabb\n",
      " II\n",
      "\n",
      "\n",
      "[Sidenote: _Pool of Tear\n",
      " III\n",
      "\n",
      "\n",
      "[Sidenote: _A Caucus-ra\n",
      " IV\n",
      "\n",
      "\n",
      "[Sidenote: _The Rabbit s\n",
      " V\n",
      "\n",
      "\n",
      "[Sidenote: _Advice from a\n",
      " VI\n",
      "\n",
      "\n",
      "[Sidenote: _Pig and Pepp\n",
      " VII\n",
      "\n",
      "\n",
      "[Sidenote: _A Mad Tea-p\n",
      " VIII\n",
      "\n",
      "\n",
      "[Sidenote: _The Queen'\n",
      " IX\n",
      "\n",
      "\n",
      "[Sidenote: _The Mock Tur\n",
      " X\n",
      "\n",
      "\n",
      "[Sidenote: _The Lobster Q\n",
      " XI\n",
      "\n",
      "\n",
      "[Sidenote: _Who Stole th\n",
      " XII\n",
      "\n",
      "\n",
      "[Sidenote: _Alice's Evi\n"
     ]
    }
   ],
   "source": [
    "# Display the first 30 characters of each chapter\n",
    "for chapter in chapters:\n",
    "    print(chapter[:30])"
   ]
  },
  {
   "cell_type": "markdown",
   "metadata": {},
   "source": [
    "## Text pre-processing\n",
    "Steps:\n",
    "1. Remove chapter titles, illustrations and sidenotes\n",
    "2. Remove new line, * and _ characters"
   ]
  },
  {
   "cell_type": "code",
   "execution_count": 72,
   "metadata": {},
   "outputs": [
    {
     "name": "stdout",
     "output_type": "stream",
     "text": [
      "Chapter 1:  ALICE was beginning to get very tired of sitting \n",
      "Chapter 2:  \"CURIOUSER and curiouser!\" cried Alice (she was s\n",
      "Chapter 3:  THEY were indeed a queer-looking party that assem\n",
      "Chapter 4:  IT was the White Rabbit, trotting slowly back aga\n",
      "Chapter 5:  THE Caterpillar and Alice looked at each other fo\n",
      "Chapter 6:  FOR a minute or two she stood looking at the hous\n",
      "Chapter 7:  THERE was a table set out under a tree in front o\n",
      "Chapter 8:  A LARGE rose-tree stood near the entrance of the \n",
      "Chapter 9:  \"YOU can't think how glad I am to see you again, \n",
      "Chapter 10:  THE Mock Turtle sighed deeply, and drew the back \n",
      "Chapter 11:  THE King and Queen of Hearts were seated on their\n",
      "Chapter 12:  \"HERE!\" cried Alice, quite forgetting in the flur\n"
     ]
    }
   ],
   "source": [
    "# Remove first line in each chapter (the chapter number)\n",
    "chapters = [re.sub(r\"^.*\\n\", \"\", sent) for sent in chapters]\n",
    "\n",
    "# Remove chapters titles/illustraions/sidenotes - these are of the form \"[text]\"\n",
    "chapters = [re.sub(\"[\\[].*?[\\]]\", \" \", sent) for sent in chapters]\n",
    "\n",
    "# Remove one or more spaces and new lines\n",
    "chapters = [re.sub(\"\\s+\", \" \", sent) for sent in chapters]\n",
    "\n",
    "# Remove the ***** text lines in the text\n",
    "chapters = [re.sub(\"\\*\", \" \", sent) for sent in chapters]\n",
    "\n",
    "# Remove the _ characters in the text\n",
    "chapters = [re.sub(\"_\", \" \", sent) for sent in chapters]\n",
    "\n",
    "# Lets look at how the text now looks\n",
    "for chapter in chapters:\n",
    "    print(\"Chapter {}: {}\".format(chapters.index(chapter)+1,chapter[:50]))"
   ]
  },
  {
   "cell_type": "code",
   "execution_count": 73,
   "metadata": {},
   "outputs": [],
   "source": [
    "chapter_sentences = [list(get_sentences(doc)) for doc in chapters]"
   ]
  },
  {
   "cell_type": "code",
   "execution_count": 74,
   "metadata": {},
   "outputs": [
    {
     "data": {
      "text/plain": [
       "12"
      ]
     },
     "execution_count": 74,
     "metadata": {},
     "output_type": "execute_result"
    }
   ],
   "source": [
    "len(chapter_sentences[:])"
   ]
  },
  {
   "cell_type": "code",
   "execution_count": 75,
   "metadata": {},
   "outputs": [
    {
     "name": "stdout",
     "output_type": "stream",
     "text": [
      "Phrases in chapter 1: 60\n",
      "Phrases in chapter 2: 79\n",
      "Phrases in chapter 3: 64\n",
      "Phrases in chapter 4: 95\n",
      "Phrases in chapter 5: 73\n",
      "Phrases in chapter 6: 99\n",
      "Phrases in chapter 7: 98\n",
      "Phrases in chapter 8: 80\n",
      "Phrases in chapter 9: 85\n",
      "Phrases in chapter 10: 93\n",
      "Phrases in chapter 11: 77\n",
      "Phrases in chapter 12: 69\n",
      "Phrases in total: 972\n"
     ]
    }
   ],
   "source": [
    "total = 0\n",
    "for i in range(len(chapter_sentences)):\n",
    "    print(\"Phrases in chapter {}: {}\".format(i+1,len(list(chapter_sentences[i]))))\n",
    "    total = total + len(list(chapter_sentences[i]))\n",
    "print(\"Phrases in total: {}\".format(total))"
   ]
  },
  {
   "cell_type": "code",
   "execution_count": 76,
   "metadata": {},
   "outputs": [
    {
     "data": {
      "text/plain": [
       "['ALICE was beginning to get very tired of sitting by her sister on the bank, and of having nothing to do: once or twice she had peeped into the book her sister was reading, but it had no pictures or conversations in it, \"and what is the use of a book,\" thought Alice, \"without pictures or conversations?\" So she was considering in her own mind (as well as she could, for the hot day made her feel very sleepy and stupid) whether the pleasure of making a daisy-chain would be worth the trouble of getting up and picking the daisies, when suddenly a White Rabbit with pink eyes ran close by her.',\n",
       " 'There was nothing so  very  remarkable in that; nor did Alice think it so  very  much out of the way to hear the Rabbit say to itself, \"Oh dear!',\n",
       " 'Oh dear!',\n",
       " 'I shall be too late!\" (when she thought it over afterwards, it occurred to her that she ought to have wondered at this, but at the time it all seemed quite natural); but when the Rabbit actually  took a watch out of its waistcoat-pocket , and looked at it, and then hurried on, Alice started to her feet, for it flashed across her mind that she had never before seen a rabbit with either a waistcoat-pocket, or a watch to take out of it, and burning with curiosity, she ran across the field after it, and was just in time to see it pop down a large rabbit-hole under the hedge.',\n",
       " 'In another moment down went Alice after it, never once considering how in the world she was to get out again.']"
      ]
     },
     "execution_count": 76,
     "metadata": {},
     "output_type": "execute_result"
    }
   ],
   "source": [
    "chapter_sentences[0][:5]"
   ]
  },
  {
   "cell_type": "markdown",
   "metadata": {},
   "source": [
    "We no longer want the sentences per chapter - word2vec just wants a list of sentences. So lets flatten the chapter list"
   ]
  },
  {
   "cell_type": "code",
   "execution_count": 77,
   "metadata": {},
   "outputs": [
    {
     "data": {
      "text/plain": [
       "972"
      ]
     },
     "execution_count": 77,
     "metadata": {},
     "output_type": "execute_result"
    }
   ],
   "source": [
    "sentences = [item for chapter in chapter_sentences for item in chapter]\n",
    "len(sentences)"
   ]
  },
  {
   "cell_type": "code",
   "execution_count": 78,
   "metadata": {},
   "outputs": [
    {
     "data": {
      "text/plain": [
       "['ALICE was beginning to get very tired of sitting by her sister on the bank, and of having nothing to do: once or twice she had peeped into the book her sister was reading, but it had no pictures or conversations in it, \"and what is the use of a book,\" thought Alice, \"without pictures or conversations?\" So she was considering in her own mind (as well as she could, for the hot day made her feel very sleepy and stupid) whether the pleasure of making a daisy-chain would be worth the trouble of getting up and picking the daisies, when suddenly a White Rabbit with pink eyes ran close by her.',\n",
       " 'There was nothing so  very  remarkable in that; nor did Alice think it so  very  much out of the way to hear the Rabbit say to itself, \"Oh dear!',\n",
       " 'Oh dear!',\n",
       " 'I shall be too late!\" (when she thought it over afterwards, it occurred to her that she ought to have wondered at this, but at the time it all seemed quite natural); but when the Rabbit actually  took a watch out of its waistcoat-pocket , and looked at it, and then hurried on, Alice started to her feet, for it flashed across her mind that she had never before seen a rabbit with either a waistcoat-pocket, or a watch to take out of it, and burning with curiosity, she ran across the field after it, and was just in time to see it pop down a large rabbit-hole under the hedge.',\n",
       " 'In another moment down went Alice after it, never once considering how in the world she was to get out again.']"
      ]
     },
     "execution_count": 78,
     "metadata": {},
     "output_type": "execute_result"
    }
   ],
   "source": [
    "sentences[:5]"
   ]
  },
  {
   "cell_type": "markdown",
   "metadata": {},
   "source": [
    "## Tokenization and lemmatization\n",
    "Tokenise all sentences removing punctuation."
   ]
  },
  {
   "cell_type": "code",
   "execution_count": 79,
   "metadata": {},
   "outputs": [
    {
     "name": "stdout",
     "output_type": "stream",
     "text": [
      "972\n",
      "['alice', 'was', 'beginning', 'to', 'get', 'very', 'tired', 'of', 'sitting', 'by', 'her', 'sister', 'on', 'the', 'bank', 'and', 'of', 'having', 'nothing', 'to', 'do', 'once', 'or', 'twice', 'she', 'had', 'peeped', 'into', 'the', 'book', 'her', 'sister', 'was', 'reading', 'but', 'it', 'had', 'no', 'pictures', 'or', 'conversations', 'in', 'it', 'and', 'what', 'is', 'the', 'use', 'of', 'book', 'thought', 'alice', 'without', 'pictures', 'or', 'conversations', 'so', 'she', 'was', 'considering', 'in', 'her', 'own', 'mind', 'as', 'well', 'as', 'she', 'could', 'for', 'the', 'hot', 'day', 'made', 'her', 'feel', 'very', 'sleepy', 'and', 'stupid', 'whether', 'the', 'pleasure', 'of', 'making', 'daisy', 'chain', 'would', 'be', 'worth', 'the', 'trouble', 'of', 'getting', 'up', 'and', 'picking', 'the', 'daisies', 'when', 'suddenly', 'white', 'rabbit', 'with', 'pink', 'eyes', 'ran', 'close', 'by', 'her']\n"
     ]
    }
   ],
   "source": [
    "# dacc=False removes punctuation\n",
    "tokenised_sentences = [simple_preprocess(str(sentence), deacc=False) for sentence in sentences]\n",
    "print(len(tokenised_sentences))\n",
    "# Lets view the words of the first sentence of the first chapter\n",
    "print(tokenised_sentences[0])"
   ]
  },
  {
   "cell_type": "markdown",
   "metadata": {},
   "source": [
    "### Create bigrams and trigrams \n",
    "Create bigram and trigrams from the tokenised and then lemmatized sentences using phraser objects."
   ]
  },
  {
   "cell_type": "code",
   "execution_count": 98,
   "metadata": {},
   "outputs": [],
   "source": [
    "bigram_phrases = Phrases(tokenised_sentences, min_count=2, threshold=1)\n",
    "bigram = Phraser(bigram_phrases)\n",
    "\n",
    "trigram_phrases = Phrases(bigram[tokenised_sentences], min_count=1, threshold=1, delimiter=b'_')\n",
    "trigram = Phraser(trigram_phrases)"
   ]
  },
  {
   "cell_type": "code",
   "execution_count": 99,
   "metadata": {},
   "outputs": [
    {
     "data": {
      "text/plain": [
       "<gensim.models.phrases.Phraser at 0x11ed1b640>"
      ]
     },
     "execution_count": 99,
     "metadata": {},
     "output_type": "execute_result"
    }
   ],
   "source": [
    "bigram"
   ]
  },
  {
   "cell_type": "code",
   "execution_count": 100,
   "metadata": {},
   "outputs": [],
   "source": [
    "# Define functions for stopwords, bigrams, trigrams and lemmatization\n",
    "\n",
    "# Gensim simple processing pipeline - lowercase and tokensises \n",
    "def simple_preprocessing(texts):\n",
    "    return [[word for word in simple_preprocess(str(doc))] for doc in texts]\n",
    "\n",
    "def make_bigrams(texts):\n",
    "    return [bigram[doc] for doc in texts]\n",
    "\n",
    "def make_trigrams(texts):\n",
    "    return [trigram[doc] for doc in texts]\n",
    "\n",
    "def lemmatization(texts, allowed_postags=['NOUN', 'ADJ', 'VERB', 'ADV']):\n",
    "    \"\"\"\n",
    "    use spaCy lemmatisation - allowing through Nouns, Adjectives, Verbs and adverbs only\n",
    "    \"\"\"\n",
    "    texts_out = []\n",
    "    for sent in texts:\n",
    "        doc = nlp(\" \".join(sent)) \n",
    "        texts_out.append([token.lemma_ for token in doc if token.pos_ in allowed_postags and token.lemma_ != '-PRON-'])\n",
    "    return texts_out"
   ]
  },
  {
   "cell_type": "code",
   "execution_count": 101,
   "metadata": {},
   "outputs": [
    {
     "name": "stdout",
     "output_type": "stream",
     "text": [
      "['begin', 'very_tired', 'sit', 'sister', 'bank', 'have', 'once', 'twice', 'peep', 'book', 'sister', 'read', 'picture', 'conversation', 'use', 'book', 'think', 'alice', 'picture', 'conversation', 'consider', 'own', 'mind', 'as_well', 'could', 'hot', 'day', 'make', 'feel_very', 'sleepy', 'stupid', 'pleasure', 'make', 'daisy', 'chain', 'would', 'worth', 'trouble', 'get', 'pick', 'daisy', 'when_suddenly', 'white_rabbit', 'pink', 'eye', 'run', 'close']\n",
      "['moment', 'down', 'go', 'alice', 'never', 'once', 'consider', 'how', 'world', 'again']\n"
     ]
    }
   ],
   "source": [
    "# Simple Genism processing \n",
    "\n",
    "tokens_preprocessed = simple_preprocessing(tokenised_sentences)\n",
    "\n",
    "# Initialize spacy 'en' model, keeping only tagger component (for efficiency)\n",
    "# python3 -m spacy download en\n",
    "nlp = spacy.load('en', disable=['parser', 'ner'])\n",
    "\n",
    "# Do lemmatization keeping only noun, adj, vb, adv\n",
    "tokens_lemmatized = lemmatization(tokens_preprocessed, allowed_postags=['NOUN', 'ADJ', 'VERB', 'ADV'])\n",
    "\n",
    "# Form Bigrams\n",
    "tokens_bigrams = make_bigrams(tokens_lemmatized)\n",
    "\n",
    "# Form Trigrams\n",
    "tokens_trigrams = make_trigrams(tokens_bigrams)\n",
    "\n",
    "data_processed = tokens_trigrams\n",
    "\n",
    "#  lets look at the first and fifth sentences\n",
    "print(data_processed[0])\n",
    "print(data_processed[4])"
   ]
  },
  {
   "cell_type": "markdown",
   "metadata": {},
   "source": [
    "## Create and train a word2vec model"
   ]
  },
  {
   "cell_type": "code",
   "execution_count": 102,
   "metadata": {},
   "outputs": [],
   "source": [
    "# Initialise the model - CBOW or skipgram\n",
    "w2v_model = Word2Vec(min_count=1,\n",
    "                     window=5,\n",
    "                     size=300,\n",
    "                     sg=1) \n",
    "\n",
    "#  – CBOW (Continuous bag-of-words): The order of the context words does not influence prediction\n",
    "#  – Skip-grams: nearby context words are weighted more heavily than distant ones."
   ]
  },
  {
   "cell_type": "code",
   "execution_count": 103,
   "metadata": {},
   "outputs": [],
   "source": [
    "# Build the vocab\n",
    "w2v_model.build_vocab(data_processed, progress_per=10000)"
   ]
  },
  {
   "cell_type": "code",
   "execution_count": 104,
   "metadata": {},
   "outputs": [
    {
     "data": {
      "text/plain": [
       "(299195, 352770)"
      ]
     },
     "execution_count": 104,
     "metadata": {},
     "output_type": "execute_result"
    }
   ],
   "source": [
    "# Train the model\n",
    "w2v_model.train(data_processed, total_examples=w2v_model.corpus_count, epochs=30, report_delay=1)"
   ]
  },
  {
   "cell_type": "code",
   "execution_count": 105,
   "metadata": {},
   "outputs": [],
   "source": [
    "# Normalise the Word2vec vectors, needed for some similarity measures\n",
    "w2v_model.init_sims(replace=True)"
   ]
  },
  {
   "cell_type": "markdown",
   "metadata": {},
   "source": [
    "## Explore similarity of words resulting from the model"
   ]
  },
  {
   "cell_type": "code",
   "execution_count": 106,
   "metadata": {},
   "outputs": [
    {
     "name": "stdout",
     "output_type": "stream",
     "text": [
      "Vocal length 2001\n",
      "Examples: ['begin', 'very_tired', 'sit', 'sister', 'bank', 'have', 'once', 'twice', 'peep', 'book', 'read', 'picture', 'conversation', 'use', 'think', 'alice', 'consider', 'own', 'mind', 'as_well', 'could', 'hot', 'day', 'make', 'feel_very', 'sleepy', 'stupid', 'pleasure', 'daisy', 'chain', 'would', 'worth', 'trouble', 'get', 'pick', 'when_suddenly', 'white_rabbit', 'pink', 'eye', 'run', 'close', 'so_very', 'remarkable', 'much', 'way', 'hear', 'rabbit', 'say', 'dear', 'shall']\n"
     ]
    }
   ],
   "source": [
    "vocab = list(w2v_model.wv.vocab)\n",
    "print (\"Vocal length %d\" % len(vocab))\n",
    "print('Examples: %s' % vocab[:50])"
   ]
  },
  {
   "cell_type": "code",
   "execution_count": 107,
   "metadata": {},
   "outputs": [
    {
     "data": {
      "text/plain": [
       "[('shout', 0.9366840124130249),\n",
       " ('heart', 0.9234737753868103),\n",
       " ('voice', 0.9169950485229492),\n",
       " ('knave', 0.9089837670326233),\n",
       " ('off', 0.9083384275436401),\n",
       " ('king', 0.8953638672828674),\n",
       " ('player', 0.8934125304222107),\n",
       " ('hear', 0.8871649503707886),\n",
       " ('turn', 0.8870571851730347),\n",
       " ('quarrel', 0.8788375854492188)]"
      ]
     },
     "execution_count": 107,
     "metadata": {},
     "output_type": "execute_result"
    }
   ],
   "source": [
    "w2v_model.wv.similar_by_word(\"queen\", topn=10)"
   ]
  },
  {
   "cell_type": "code",
   "execution_count": 108,
   "metadata": {},
   "outputs": [
    {
     "data": {
      "text/plain": [
       "[('grow', -0.010288625955581665),\n",
       " ('able', -0.014845384284853935),\n",
       " ('ootiful', -0.04174365475773811),\n",
       " ('eat', -0.12900513410568237),\n",
       " ('large', -0.18090635538101196)]"
      ]
     },
     "execution_count": 108,
     "metadata": {},
     "output_type": "execute_result"
    }
   ],
   "source": [
    "w2v_model.wv.most_similar(negative=[\"queen\"], topn=5)"
   ]
  },
  {
   "cell_type": "code",
   "execution_count": 109,
   "metadata": {},
   "outputs": [
    {
     "data": {
      "text/plain": [
       "0.9147519"
      ]
     },
     "execution_count": 109,
     "metadata": {},
     "output_type": "execute_result"
    }
   ],
   "source": [
    "w2v_model.wv.similarity('alice', 'venture')"
   ]
  },
  {
   "cell_type": "code",
   "execution_count": 110,
   "metadata": {},
   "outputs": [
    {
     "data": {
      "text/plain": [
       "0.5489847"
      ]
     },
     "execution_count": 110,
     "metadata": {},
     "output_type": "execute_result"
    }
   ],
   "source": [
    "w2v_model.wv.similarity('alice', 'hurry')"
   ]
  },
  {
   "cell_type": "code",
   "execution_count": 111,
   "metadata": {},
   "outputs": [
    {
     "name": "stderr",
     "output_type": "stream",
     "text": [
      "/git/github.com/kwulffert/covid-19-analysis/.venv-af/lib/python3.8/site-packages/gensim/models/keyedvectors.py:877: FutureWarning: arrays to stack must be passed as a \"sequence\" type such as list or tuple. Support for non-sequence iterables such as generators is deprecated as of NumPy 1.16 and will raise an error in the future.\n",
      "  vectors = vstack(self.word_vec(word, use_norm=True) for word in used_words).astype(REAL)\n"
     ]
    },
    {
     "data": {
      "text/plain": [
       "'queen'"
      ]
     },
     "execution_count": 111,
     "metadata": {},
     "output_type": "execute_result"
    }
   ],
   "source": [
    "w2v_model.wv.doesnt_match(\"alice queen hatter caterpillar rat\".split())"
   ]
  },
  {
   "cell_type": "code",
   "execution_count": 118,
   "metadata": {},
   "outputs": [
    {
     "data": {
      "text/html": [
       "<div>\n",
       "<style scoped>\n",
       "    .dataframe tbody tr th:only-of-type {\n",
       "        vertical-align: middle;\n",
       "    }\n",
       "\n",
       "    .dataframe tbody tr th {\n",
       "        vertical-align: top;\n",
       "    }\n",
       "\n",
       "    .dataframe thead th {\n",
       "        text-align: right;\n",
       "    }\n",
       "</style>\n",
       "<table border=\"1\" class=\"dataframe\">\n",
       "  <thead>\n",
       "    <tr style=\"text-align: right;\">\n",
       "      <th></th>\n",
       "      <th>alice</th>\n",
       "      <th>similarity</th>\n",
       "      <th>cheshire_cat</th>\n",
       "      <th>similarity</th>\n",
       "      <th>turtle</th>\n",
       "      <th>similarity</th>\n",
       "      <th>queen</th>\n",
       "      <th>similarity</th>\n",
       "      <th>caterpillar</th>\n",
       "      <th>similarity</th>\n",
       "      <th>hatter</th>\n",
       "      <th>similarity</th>\n",
       "      <th>gryphon</th>\n",
       "      <th>similarity</th>\n",
       "      <th>duchess</th>\n",
       "      <th>similarity</th>\n",
       "    </tr>\n",
       "  </thead>\n",
       "  <tbody>\n",
       "    <tr>\n",
       "      <th>0</th>\n",
       "      <td>name</td>\n",
       "      <td>0.958373</td>\n",
       "      <td>lovely_garden</td>\n",
       "      <td>0.993608</td>\n",
       "      <td>stuff</td>\n",
       "      <td>0.993133</td>\n",
       "      <td>shout</td>\n",
       "      <td>0.936684</td>\n",
       "      <td>sobs</td>\n",
       "      <td>0.975401</td>\n",
       "      <td>well</td>\n",
       "      <td>0.963960</td>\n",
       "      <td>feeble</td>\n",
       "      <td>0.990275</td>\n",
       "      <td>dig</td>\n",
       "      <td>0.942050</td>\n",
       "    </tr>\n",
       "    <tr>\n",
       "      <th>1</th>\n",
       "      <td>better</td>\n",
       "      <td>0.957184</td>\n",
       "      <td>right_size</td>\n",
       "      <td>0.993509</td>\n",
       "      <td>fellow</td>\n",
       "      <td>0.992806</td>\n",
       "      <td>heart</td>\n",
       "      <td>0.923474</td>\n",
       "      <td>rub</td>\n",
       "      <td>0.973195</td>\n",
       "      <td>tea</td>\n",
       "      <td>0.947729</td>\n",
       "      <td>tis</td>\n",
       "      <td>0.989896</td>\n",
       "      <td>pig</td>\n",
       "      <td>0.940542</td>\n",
       "    </tr>\n",
       "    <tr>\n",
       "      <th>2</th>\n",
       "      <td>shall</td>\n",
       "      <td>0.956770</td>\n",
       "      <td>occur</td>\n",
       "      <td>0.992423</td>\n",
       "      <td>teach</td>\n",
       "      <td>0.991951</td>\n",
       "      <td>voice</td>\n",
       "      <td>0.916995</td>\n",
       "      <td>slowly</td>\n",
       "      <td>0.972156</td>\n",
       "      <td>bottom</td>\n",
       "      <td>0.947008</td>\n",
       "      <td>alone</td>\n",
       "      <td>0.989530</td>\n",
       "      <td>growl</td>\n",
       "      <td>0.932070</td>\n",
       "    </tr>\n",
       "    <tr>\n",
       "      <th>3</th>\n",
       "      <td>let</td>\n",
       "      <td>0.950646</td>\n",
       "      <td>very_uncomfortable</td>\n",
       "      <td>0.991509</td>\n",
       "      <td>should_like</td>\n",
       "      <td>0.991831</td>\n",
       "      <td>knave</td>\n",
       "      <td>0.908984</td>\n",
       "      <td>hookah</td>\n",
       "      <td>0.971484</td>\n",
       "      <td>butter</td>\n",
       "      <td>0.934454</td>\n",
       "      <td>sobs</td>\n",
       "      <td>0.988791</td>\n",
       "      <td>choose</td>\n",
       "      <td>0.931257</td>\n",
       "    </tr>\n",
       "    <tr>\n",
       "      <th>4</th>\n",
       "      <td>child</td>\n",
       "      <td>0.949097</td>\n",
       "      <td>shoulder</td>\n",
       "      <td>0.990069</td>\n",
       "      <td>hollow</td>\n",
       "      <td>0.991658</td>\n",
       "      <td>off</td>\n",
       "      <td>0.908338</td>\n",
       "      <td>while</td>\n",
       "      <td>0.971063</td>\n",
       "      <td>of_course</td>\n",
       "      <td>0.926154</td>\n",
       "      <td>meal</td>\n",
       "      <td>0.988369</td>\n",
       "      <td>of_course</td>\n",
       "      <td>0.930912</td>\n",
       "    </tr>\n",
       "    <tr>\n",
       "      <th>5</th>\n",
       "      <td>else</td>\n",
       "      <td>0.948170</td>\n",
       "      <td>tired</td>\n",
       "      <td>0.989736</td>\n",
       "      <td>line</td>\n",
       "      <td>0.991628</td>\n",
       "      <td>king</td>\n",
       "      <td>0.895364</td>\n",
       "      <td>unfold</td>\n",
       "      <td>0.970981</td>\n",
       "      <td>majesty</td>\n",
       "      <td>0.922408</td>\n",
       "      <td>beginning</td>\n",
       "      <td>0.988285</td>\n",
       "      <td>please</td>\n",
       "      <td>0.930101</td>\n",
       "    </tr>\n",
       "    <tr>\n",
       "      <th>6</th>\n",
       "      <td>trial</td>\n",
       "      <td>0.947610</td>\n",
       "      <td>hole</td>\n",
       "      <td>0.989719</td>\n",
       "      <td>hoarse</td>\n",
       "      <td>0.991537</td>\n",
       "      <td>player</td>\n",
       "      <td>0.893413</td>\n",
       "      <td>alone</td>\n",
       "      <td>0.970654</td>\n",
       "      <td>riddle</td>\n",
       "      <td>0.918882</td>\n",
       "      <td>thunder</td>\n",
       "      <td>0.988033</td>\n",
       "      <td>come_back</td>\n",
       "      <td>0.928283</td>\n",
       "    </tr>\n",
       "    <tr>\n",
       "      <th>7</th>\n",
       "      <td>little_timidly</td>\n",
       "      <td>0.946968</td>\n",
       "      <td>expect</td>\n",
       "      <td>0.989697</td>\n",
       "      <td>holiday</td>\n",
       "      <td>0.991405</td>\n",
       "      <td>hear</td>\n",
       "      <td>0.887165</td>\n",
       "      <td>spectacle</td>\n",
       "      <td>0.968984</td>\n",
       "      <td>sleep</td>\n",
       "      <td>0.917718</td>\n",
       "      <td>indignant</td>\n",
       "      <td>0.988021</td>\n",
       "      <td>sharp_little</td>\n",
       "      <td>0.927655</td>\n",
       "    </tr>\n",
       "    <tr>\n",
       "      <th>8</th>\n",
       "      <td>glad</td>\n",
       "      <td>0.946766</td>\n",
       "      <td>giddy</td>\n",
       "      <td>0.989417</td>\n",
       "      <td>likely</td>\n",
       "      <td>0.991300</td>\n",
       "      <td>turn</td>\n",
       "      <td>0.887057</td>\n",
       "      <td>silence</td>\n",
       "      <td>0.968926</td>\n",
       "      <td>bread</td>\n",
       "      <td>0.915512</td>\n",
       "      <td>lonely</td>\n",
       "      <td>0.988016</td>\n",
       "      <td>angry</td>\n",
       "      <td>0.927330</td>\n",
       "    </tr>\n",
       "    <tr>\n",
       "      <th>9</th>\n",
       "      <td>understand</td>\n",
       "      <td>0.945145</td>\n",
       "      <td>escape</td>\n",
       "      <td>0.989296</td>\n",
       "      <td>uglification</td>\n",
       "      <td>0.991289</td>\n",
       "      <td>quarrel</td>\n",
       "      <td>0.878838</td>\n",
       "      <td>yawn</td>\n",
       "      <td>0.968838</td>\n",
       "      <td>name</td>\n",
       "      <td>0.915442</td>\n",
       "      <td>great_hurry</td>\n",
       "      <td>0.987886</td>\n",
       "      <td>riddle</td>\n",
       "      <td>0.927272</td>\n",
       "    </tr>\n",
       "    <tr>\n",
       "      <th>10</th>\n",
       "      <td>kind</td>\n",
       "      <td>0.944982</td>\n",
       "      <td>measure</td>\n",
       "      <td>0.989024</td>\n",
       "      <td>grief</td>\n",
       "      <td>0.991183</td>\n",
       "      <td>sentence</td>\n",
       "      <td>0.859983</td>\n",
       "      <td>head_impatiently</td>\n",
       "      <td>0.968168</td>\n",
       "      <td>treacle</td>\n",
       "      <td>0.913293</td>\n",
       "      <td>general</td>\n",
       "      <td>0.987699</td>\n",
       "      <td>crossly</td>\n",
       "      <td>0.926513</td>\n",
       "    </tr>\n",
       "    <tr>\n",
       "      <th>11</th>\n",
       "      <td>haven</td>\n",
       "      <td>0.943662</td>\n",
       "      <td>kitchen</td>\n",
       "      <td>0.988924</td>\n",
       "      <td>exclaim</td>\n",
       "      <td>0.991065</td>\n",
       "      <td>stop</td>\n",
       "      <td>0.853970</td>\n",
       "      <td>knife</td>\n",
       "      <td>0.967873</td>\n",
       "      <td>live</td>\n",
       "      <td>0.911820</td>\n",
       "      <td>hardly_know</td>\n",
       "      <td>0.987630</td>\n",
       "      <td>melancholy</td>\n",
       "      <td>0.925966</td>\n",
       "    </tr>\n",
       "    <tr>\n",
       "      <th>12</th>\n",
       "      <td>do</td>\n",
       "      <td>0.943656</td>\n",
       "      <td>natural</td>\n",
       "      <td>0.988909</td>\n",
       "      <td>master</td>\n",
       "      <td>0.990979</td>\n",
       "      <td>white_rabbit</td>\n",
       "      <td>0.849454</td>\n",
       "      <td>gryphon</td>\n",
       "      <td>0.967705</td>\n",
       "      <td>please</td>\n",
       "      <td>0.908165</td>\n",
       "      <td>bell</td>\n",
       "      <td>0.987380</td>\n",
       "      <td>easy</td>\n",
       "      <td>0.925827</td>\n",
       "    </tr>\n",
       "    <tr>\n",
       "      <th>13</th>\n",
       "      <td>story</td>\n",
       "      <td>0.943349</td>\n",
       "      <td>glass_table</td>\n",
       "      <td>0.988881</td>\n",
       "      <td>mystery</td>\n",
       "      <td>0.990926</td>\n",
       "      <td>then</td>\n",
       "      <td>0.848762</td>\n",
       "      <td>unwillingly</td>\n",
       "      <td>0.967675</td>\n",
       "      <td>go</td>\n",
       "      <td>0.907955</td>\n",
       "      <td>timid</td>\n",
       "      <td>0.986883</td>\n",
       "      <td>waste</td>\n",
       "      <td>0.925522</td>\n",
       "    </tr>\n",
       "    <tr>\n",
       "      <th>14</th>\n",
       "      <td>want</td>\n",
       "      <td>0.942212</td>\n",
       "      <td>drunk</td>\n",
       "      <td>0.988528</td>\n",
       "      <td>laughing</td>\n",
       "      <td>0.990922</td>\n",
       "      <td>play</td>\n",
       "      <td>0.848339</td>\n",
       "      <td>grand</td>\n",
       "      <td>0.967653</td>\n",
       "      <td>interrupt</td>\n",
       "      <td>0.907943</td>\n",
       "      <td>distance</td>\n",
       "      <td>0.986609</td>\n",
       "      <td>sign</td>\n",
       "      <td>0.924241</td>\n",
       "    </tr>\n",
       "    <tr>\n",
       "      <th>15</th>\n",
       "      <td>perhaps</td>\n",
       "      <td>0.941989</td>\n",
       "      <td>telescope</td>\n",
       "      <td>0.988257</td>\n",
       "      <td>eleventh</td>\n",
       "      <td>0.990509</td>\n",
       "      <td>stamp</td>\n",
       "      <td>0.846141</td>\n",
       "      <td>great_hurry</td>\n",
       "      <td>0.967543</td>\n",
       "      <td>hadn</td>\n",
       "      <td>0.906684</td>\n",
       "      <td>royal</td>\n",
       "      <td>0.986110</td>\n",
       "      <td>anxious</td>\n",
       "      <td>0.923657</td>\n",
       "    </tr>\n",
       "    <tr>\n",
       "      <th>16</th>\n",
       "      <td>rather</td>\n",
       "      <td>0.941659</td>\n",
       "      <td>as_soon</td>\n",
       "      <td>0.987827</td>\n",
       "      <td>eel</td>\n",
       "      <td>0.990352</td>\n",
       "      <td>leave</td>\n",
       "      <td>0.845780</td>\n",
       "      <td>passion</td>\n",
       "      <td>0.967374</td>\n",
       "      <td>waste</td>\n",
       "      <td>0.906661</td>\n",
       "      <td>scream</td>\n",
       "      <td>0.986077</td>\n",
       "      <td>less</td>\n",
       "      <td>0.923632</td>\n",
       "    </tr>\n",
       "    <tr>\n",
       "      <th>17</th>\n",
       "      <td>so_many</td>\n",
       "      <td>0.941554</td>\n",
       "      <td>plainly</td>\n",
       "      <td>0.987825</td>\n",
       "      <td>month</td>\n",
       "      <td>0.990338</td>\n",
       "      <td>silence</td>\n",
       "      <td>0.845542</td>\n",
       "      <td>deeply</td>\n",
       "      <td>0.967317</td>\n",
       "      <td>choose</td>\n",
       "      <td>0.906027</td>\n",
       "      <td>shrill</td>\n",
       "      <td>0.986049</td>\n",
       "      <td>cheshire</td>\n",
       "      <td>0.923517</td>\n",
       "    </tr>\n",
       "    <tr>\n",
       "      <th>18</th>\n",
       "      <td>different</td>\n",
       "      <td>0.939662</td>\n",
       "      <td>swallow</td>\n",
       "      <td>0.987349</td>\n",
       "      <td>reel</td>\n",
       "      <td>0.990139</td>\n",
       "      <td>executioner</td>\n",
       "      <td>0.845385</td>\n",
       "      <td>decidedly</td>\n",
       "      <td>0.967224</td>\n",
       "      <td>less</td>\n",
       "      <td>0.905137</td>\n",
       "      <td>bind</td>\n",
       "      <td>0.986020</td>\n",
       "      <td>didn</td>\n",
       "      <td>0.923493</td>\n",
       "    </tr>\n",
       "    <tr>\n",
       "      <th>19</th>\n",
       "      <td>so_often</td>\n",
       "      <td>0.939199</td>\n",
       "      <td>helpless</td>\n",
       "      <td>0.986922</td>\n",
       "      <td>yesterday</td>\n",
       "      <td>0.990044</td>\n",
       "      <td>come</td>\n",
       "      <td>0.844758</td>\n",
       "      <td>choke</td>\n",
       "      <td>0.967200</td>\n",
       "      <td>shouldn</td>\n",
       "      <td>0.904226</td>\n",
       "      <td>sheep</td>\n",
       "      <td>0.985993</td>\n",
       "      <td>at_least</td>\n",
       "      <td>0.923399</td>\n",
       "    </tr>\n",
       "    <tr>\n",
       "      <th>20</th>\n",
       "      <td>song</td>\n",
       "      <td>0.938835</td>\n",
       "      <td>ring</td>\n",
       "      <td>0.986783</td>\n",
       "      <td>writhing</td>\n",
       "      <td>0.989862</td>\n",
       "      <td>tremble</td>\n",
       "      <td>0.844627</td>\n",
       "      <td>list</td>\n",
       "      <td>0.966968</td>\n",
       "      <td>learn</td>\n",
       "      <td>0.903529</td>\n",
       "      <td>squeak</td>\n",
       "      <td>0.985913</td>\n",
       "      <td>prove</td>\n",
       "      <td>0.923294</td>\n",
       "    </tr>\n",
       "    <tr>\n",
       "      <th>21</th>\n",
       "      <td>tortoise</td>\n",
       "      <td>0.938140</td>\n",
       "      <td>flurry</td>\n",
       "      <td>0.986658</td>\n",
       "      <td>porpoise</td>\n",
       "      <td>0.989746</td>\n",
       "      <td>away</td>\n",
       "      <td>0.844224</td>\n",
       "      <td>cushion</td>\n",
       "      <td>0.966453</td>\n",
       "      <td>confused</td>\n",
       "      <td>0.901387</td>\n",
       "      <td>old_fellow</td>\n",
       "      <td>0.985780</td>\n",
       "      <td>pause</td>\n",
       "      <td>0.922654</td>\n",
       "    </tr>\n",
       "    <tr>\n",
       "      <th>22</th>\n",
       "      <td>young_lady</td>\n",
       "      <td>0.936783</td>\n",
       "      <td>creep</td>\n",
       "      <td>0.986649</td>\n",
       "      <td>old_fellow</td>\n",
       "      <td>0.989671</td>\n",
       "      <td>jump</td>\n",
       "      <td>0.842454</td>\n",
       "      <td>pass</td>\n",
       "      <td>0.966359</td>\n",
       "      <td>mystery</td>\n",
       "      <td>0.900906</td>\n",
       "      <td>next_verse</td>\n",
       "      <td>0.985616</td>\n",
       "      <td>replied</td>\n",
       "      <td>0.922577</td>\n",
       "    </tr>\n",
       "    <tr>\n",
       "      <th>23</th>\n",
       "      <td>feel_very</td>\n",
       "      <td>0.936255</td>\n",
       "      <td>couldn</td>\n",
       "      <td>0.986561</td>\n",
       "      <td>caper</td>\n",
       "      <td>0.989667</td>\n",
       "      <td>bow</td>\n",
       "      <td>0.839825</td>\n",
       "      <td>singer</td>\n",
       "      <td>0.966282</td>\n",
       "      <td>poor_man</td>\n",
       "      <td>0.899177</td>\n",
       "      <td>hoarse</td>\n",
       "      <td>0.985508</td>\n",
       "      <td>tis_love</td>\n",
       "      <td>0.922047</td>\n",
       "    </tr>\n",
       "    <tr>\n",
       "      <th>24</th>\n",
       "      <td>pardon</td>\n",
       "      <td>0.935630</td>\n",
       "      <td>tidy</td>\n",
       "      <td>0.986442</td>\n",
       "      <td>washing</td>\n",
       "      <td>0.989644</td>\n",
       "      <td>game</td>\n",
       "      <td>0.839152</td>\n",
       "      <td>cross</td>\n",
       "      <td>0.966244</td>\n",
       "      <td>sign</td>\n",
       "      <td>0.898790</td>\n",
       "      <td>furious</td>\n",
       "      <td>0.985452</td>\n",
       "      <td>annoy</td>\n",
       "      <td>0.922037</td>\n",
       "    </tr>\n",
       "    <tr>\n",
       "      <th>25</th>\n",
       "      <td>offend</td>\n",
       "      <td>0.935333</td>\n",
       "      <td>climb</td>\n",
       "      <td>0.986370</td>\n",
       "      <td>arithmetic</td>\n",
       "      <td>0.989639</td>\n",
       "      <td>angrily</td>\n",
       "      <td>0.836902</td>\n",
       "      <td>stare</td>\n",
       "      <td>0.966231</td>\n",
       "      <td>undertone</td>\n",
       "      <td>0.898475</td>\n",
       "      <td>murder</td>\n",
       "      <td>0.985339</td>\n",
       "      <td>pleased</td>\n",
       "      <td>0.922030</td>\n",
       "    </tr>\n",
       "    <tr>\n",
       "      <th>26</th>\n",
       "      <td>whiting</td>\n",
       "      <td>0.935317</td>\n",
       "      <td>so_suddenly</td>\n",
       "      <td>0.986366</td>\n",
       "      <td>proud</td>\n",
       "      <td>0.989444</td>\n",
       "      <td>watch</td>\n",
       "      <td>0.834236</td>\n",
       "      <td>quietly</td>\n",
       "      <td>0.965915</td>\n",
       "      <td>should_say</td>\n",
       "      <td>0.898430</td>\n",
       "      <td>wildly</td>\n",
       "      <td>0.985328</td>\n",
       "      <td>extra</td>\n",
       "      <td>0.921841</td>\n",
       "    </tr>\n",
       "    <tr>\n",
       "      <th>27</th>\n",
       "      <td>afraid</td>\n",
       "      <td>0.934901</td>\n",
       "      <td>care</td>\n",
       "      <td>0.986307</td>\n",
       "      <td>miserable</td>\n",
       "      <td>0.989377</td>\n",
       "      <td>passion</td>\n",
       "      <td>0.833459</td>\n",
       "      <td>furious</td>\n",
       "      <td>0.965886</td>\n",
       "      <td>finish</td>\n",
       "      <td>0.898127</td>\n",
       "      <td>bawl</td>\n",
       "      <td>0.985277</td>\n",
       "      <td>manner</td>\n",
       "      <td>0.921682</td>\n",
       "    </tr>\n",
       "    <tr>\n",
       "      <th>28</th>\n",
       "      <td>growl</td>\n",
       "      <td>0.934310</td>\n",
       "      <td>very_glad</td>\n",
       "      <td>0.986251</td>\n",
       "      <td>count</td>\n",
       "      <td>0.989359</td>\n",
       "      <td>custody</td>\n",
       "      <td>0.831836</td>\n",
       "      <td>shriek</td>\n",
       "      <td>0.965285</td>\n",
       "      <td>better</td>\n",
       "      <td>0.898021</td>\n",
       "      <td>rumbling</td>\n",
       "      <td>0.985277</td>\n",
       "      <td>world</td>\n",
       "      <td>0.920943</td>\n",
       "    </tr>\n",
       "    <tr>\n",
       "      <th>29</th>\n",
       "      <td>very_politely</td>\n",
       "      <td>0.934146</td>\n",
       "      <td>slippery</td>\n",
       "      <td>0.985863</td>\n",
       "      <td>advance</td>\n",
       "      <td>0.989322</td>\n",
       "      <td>illustration</td>\n",
       "      <td>0.829087</td>\n",
       "      <td>tis</td>\n",
       "      <td>0.965175</td>\n",
       "      <td>gravely</td>\n",
       "      <td>0.897366</td>\n",
       "      <td>passion</td>\n",
       "      <td>0.985253</td>\n",
       "      <td>remove</td>\n",
       "      <td>0.920469</td>\n",
       "    </tr>\n",
       "  </tbody>\n",
       "</table>\n",
       "</div>"
      ],
      "text/plain": [
       "             alice  similarity        cheshire_cat  similarity        turtle  \\\n",
       "0             name    0.958373       lovely_garden    0.993608         stuff   \n",
       "1           better    0.957184          right_size    0.993509        fellow   \n",
       "2            shall    0.956770               occur    0.992423         teach   \n",
       "3              let    0.950646  very_uncomfortable    0.991509   should_like   \n",
       "4            child    0.949097            shoulder    0.990069        hollow   \n",
       "5             else    0.948170               tired    0.989736          line   \n",
       "6            trial    0.947610                hole    0.989719        hoarse   \n",
       "7   little_timidly    0.946968              expect    0.989697       holiday   \n",
       "8             glad    0.946766               giddy    0.989417        likely   \n",
       "9       understand    0.945145              escape    0.989296  uglification   \n",
       "10            kind    0.944982             measure    0.989024         grief   \n",
       "11           haven    0.943662             kitchen    0.988924       exclaim   \n",
       "12              do    0.943656             natural    0.988909        master   \n",
       "13           story    0.943349         glass_table    0.988881       mystery   \n",
       "14            want    0.942212               drunk    0.988528      laughing   \n",
       "15         perhaps    0.941989           telescope    0.988257      eleventh   \n",
       "16          rather    0.941659             as_soon    0.987827           eel   \n",
       "17         so_many    0.941554             plainly    0.987825         month   \n",
       "18       different    0.939662             swallow    0.987349          reel   \n",
       "19        so_often    0.939199            helpless    0.986922     yesterday   \n",
       "20            song    0.938835                ring    0.986783      writhing   \n",
       "21        tortoise    0.938140              flurry    0.986658      porpoise   \n",
       "22      young_lady    0.936783               creep    0.986649    old_fellow   \n",
       "23       feel_very    0.936255              couldn    0.986561         caper   \n",
       "24          pardon    0.935630                tidy    0.986442       washing   \n",
       "25          offend    0.935333               climb    0.986370    arithmetic   \n",
       "26         whiting    0.935317         so_suddenly    0.986366         proud   \n",
       "27          afraid    0.934901                care    0.986307     miserable   \n",
       "28           growl    0.934310           very_glad    0.986251         count   \n",
       "29   very_politely    0.934146            slippery    0.985863       advance   \n",
       "\n",
       "    similarity         queen  similarity       caterpillar  similarity  \\\n",
       "0     0.993133         shout    0.936684              sobs    0.975401   \n",
       "1     0.992806         heart    0.923474               rub    0.973195   \n",
       "2     0.991951         voice    0.916995            slowly    0.972156   \n",
       "3     0.991831         knave    0.908984            hookah    0.971484   \n",
       "4     0.991658           off    0.908338             while    0.971063   \n",
       "5     0.991628          king    0.895364            unfold    0.970981   \n",
       "6     0.991537        player    0.893413             alone    0.970654   \n",
       "7     0.991405          hear    0.887165         spectacle    0.968984   \n",
       "8     0.991300          turn    0.887057           silence    0.968926   \n",
       "9     0.991289       quarrel    0.878838              yawn    0.968838   \n",
       "10    0.991183      sentence    0.859983  head_impatiently    0.968168   \n",
       "11    0.991065          stop    0.853970             knife    0.967873   \n",
       "12    0.990979  white_rabbit    0.849454           gryphon    0.967705   \n",
       "13    0.990926          then    0.848762       unwillingly    0.967675   \n",
       "14    0.990922          play    0.848339             grand    0.967653   \n",
       "15    0.990509         stamp    0.846141       great_hurry    0.967543   \n",
       "16    0.990352         leave    0.845780           passion    0.967374   \n",
       "17    0.990338       silence    0.845542            deeply    0.967317   \n",
       "18    0.990139   executioner    0.845385         decidedly    0.967224   \n",
       "19    0.990044          come    0.844758             choke    0.967200   \n",
       "20    0.989862       tremble    0.844627              list    0.966968   \n",
       "21    0.989746          away    0.844224           cushion    0.966453   \n",
       "22    0.989671          jump    0.842454              pass    0.966359   \n",
       "23    0.989667           bow    0.839825            singer    0.966282   \n",
       "24    0.989644          game    0.839152             cross    0.966244   \n",
       "25    0.989639       angrily    0.836902             stare    0.966231   \n",
       "26    0.989444         watch    0.834236           quietly    0.965915   \n",
       "27    0.989377       passion    0.833459           furious    0.965886   \n",
       "28    0.989359       custody    0.831836            shriek    0.965285   \n",
       "29    0.989322  illustration    0.829087               tis    0.965175   \n",
       "\n",
       "        hatter  similarity      gryphon  similarity       duchess  similarity  \n",
       "0         well    0.963960       feeble    0.990275           dig    0.942050  \n",
       "1          tea    0.947729          tis    0.989896           pig    0.940542  \n",
       "2       bottom    0.947008        alone    0.989530         growl    0.932070  \n",
       "3       butter    0.934454         sobs    0.988791        choose    0.931257  \n",
       "4    of_course    0.926154         meal    0.988369     of_course    0.930912  \n",
       "5      majesty    0.922408    beginning    0.988285        please    0.930101  \n",
       "6       riddle    0.918882      thunder    0.988033     come_back    0.928283  \n",
       "7        sleep    0.917718    indignant    0.988021  sharp_little    0.927655  \n",
       "8        bread    0.915512       lonely    0.988016         angry    0.927330  \n",
       "9         name    0.915442  great_hurry    0.987886        riddle    0.927272  \n",
       "10     treacle    0.913293      general    0.987699       crossly    0.926513  \n",
       "11        live    0.911820  hardly_know    0.987630    melancholy    0.925966  \n",
       "12      please    0.908165         bell    0.987380          easy    0.925827  \n",
       "13          go    0.907955        timid    0.986883         waste    0.925522  \n",
       "14   interrupt    0.907943     distance    0.986609          sign    0.924241  \n",
       "15        hadn    0.906684        royal    0.986110       anxious    0.923657  \n",
       "16       waste    0.906661       scream    0.986077          less    0.923632  \n",
       "17      choose    0.906027       shrill    0.986049      cheshire    0.923517  \n",
       "18        less    0.905137         bind    0.986020          didn    0.923493  \n",
       "19     shouldn    0.904226        sheep    0.985993      at_least    0.923399  \n",
       "20       learn    0.903529       squeak    0.985913         prove    0.923294  \n",
       "21    confused    0.901387   old_fellow    0.985780         pause    0.922654  \n",
       "22     mystery    0.900906   next_verse    0.985616       replied    0.922577  \n",
       "23    poor_man    0.899177       hoarse    0.985508      tis_love    0.922047  \n",
       "24        sign    0.898790      furious    0.985452         annoy    0.922037  \n",
       "25   undertone    0.898475       murder    0.985339       pleased    0.922030  \n",
       "26  should_say    0.898430       wildly    0.985328         extra    0.921841  \n",
       "27      finish    0.898127         bawl    0.985277        manner    0.921682  \n",
       "28      better    0.898021     rumbling    0.985277         world    0.920943  \n",
       "29     gravely    0.897366      passion    0.985253        remove    0.920469  "
      ]
     },
     "execution_count": 118,
     "metadata": {},
     "output_type": "execute_result"
    }
   ],
   "source": [
    "def get_word_table(table, key):\n",
    "    return pd.DataFrame(table, columns=[key, 'similarity'])\n",
    "\n",
    "keys = [ 'alice', 'cheshire_cat', 'turtle', 'queen', 'caterpillar', 'hatter', 'gryphon','duchess']\n",
    "tables = []\n",
    "for key in keys:\n",
    "    #tables.append(get_word_table(w2v_model.wv.similar_by_word(key), key))\n",
    "    tables.append(get_word_table(w2v_model.wv.similar_by_word(key, topn=30), key))\n",
    "    w2v_model.wv.most_similar(word, topn=30)\n",
    "pd.concat(tables, axis=1)"
   ]
  },
  {
   "cell_type": "markdown",
   "metadata": {},
   "source": [
    "## Embeddings Visualisation"
   ]
  },
  {
   "cell_type": "markdown",
   "metadata": {},
   "source": [
    "We will visualise embeddings of the 30 words with highest similarity to a set of characters: Alice, the cheshire cat and the mock turtle.\n",
    "<br> As the embeddings have 300 dimensions, we will use t-Distributed Stochastic Neighbor Embedding (t-SNE) to reduce the dimensions to 2 and plot the embeddings using matplotlib."
   ]
  },
  {
   "cell_type": "markdown",
   "metadata": {},
   "source": [
    "Alice    |  Cheshire cat  |    Mock turtle\n",
    ":-------------------------:|:-------------------------:|:-------------------------:\n",
    "<img src=\"images/alice.jpeg?raw=true\"/>  | <img src=\"images/alice_cat.jpg?raw=true\"/> |  <img src=\"images/turtle.jpg?raw=true\"/>  "
   ]
  },
  {
   "cell_type": "code",
   "execution_count": 113,
   "metadata": {},
   "outputs": [],
   "source": [
    "keys = ['alice', 'cheshire_cat', 'turtle']\n",
    "\n",
    "embedding_clusters = []\n",
    "word_clusters = []\n",
    "for word in keys:\n",
    "    embeddings = []\n",
    "    words = []\n",
    "    for similar_word, _ in w2v_model.wv.most_similar(word, topn=30):\n",
    "        words.append(similar_word)\n",
    "        embeddings.append(w2v_model.wv[similar_word])\n",
    "    embedding_clusters.append(embeddings)\n",
    "    word_clusters.append(words)"
   ]
  },
  {
   "cell_type": "code",
   "execution_count": 114,
   "metadata": {},
   "outputs": [],
   "source": [
    "embedding_clusters = np.array(embedding_clusters)\n",
    "n, m, k = embedding_clusters.shape\n",
    "tsne_model_en_2d = TSNE(perplexity=5, n_components=2, init='pca', n_iter=3500, random_state=32)\n",
    "embeddings_en_2d = np.array(tsne_model_en_2d.fit_transform(embedding_clusters.reshape(n * m, k))).reshape(n, m, 2)"
   ]
  },
  {
   "cell_type": "code",
   "execution_count": 116,
   "metadata": {},
   "outputs": [
    {
     "data": {
      "image/png": "[encoded data removed]",
      "text/plain": [
       "<Figure size 1152x648 with 1 Axes>"
      ]
     },
     "metadata": {
      "needs_background": "light"
     },
     "output_type": "display_data"
    }
   ],
   "source": [
    "def tsne_plot_similar_words(title, labels, embedding_clusters, word_clusters, a, filename=None):\n",
    "    plt.figure(figsize=(16, 9))\n",
    "    colors = cm.rainbow(np.linspace(0, 1, len(labels)))\n",
    "    for label, embeddings, words, color in zip(labels, embedding_clusters, word_clusters, colors):\n",
    "        x = embeddings[:, 0]\n",
    "        y = embeddings[:, 1]\n",
    "        plt.scatter(x, y, c=[color], alpha=a, label=label)\n",
    "        for i, word in enumerate(words):\n",
    "            plt.annotate(word, alpha=0.5, xy=(x[i], y[i]), xytext=(5, 2),\n",
    "                         textcoords='offset points', ha='right', va='bottom', size=8)\n",
    "            \n",
    "    plt.legend(loc=1)\n",
    "    plt.title(title)\n",
    "    plt.grid(True)\n",
    "    if filename:\n",
    "        plt.savefig(filename, format='png', dpi=150, bbox_inches='tight')\n",
    "    plt.show()\n",
    "\n",
    "\n",
    "tsne_plot_similar_words('Similar words from Alice''s adventure in Wonderland', keys, embeddings_en_2d, word_clusters, 0.7,\n",
    "                        'similar_words.png')"
   ]
  }
 ],
 "metadata": {
  "hide_input": false,
  "kernelspec": {
   "display_name": "Python 3",
   "language": "python",
   "name": "python3"
  },
  "language_info": {
   "codemirror_mode": {
    "name": "ipython",
    "version": 3
   },
   "file_extension": ".py",
   "mimetype": "text/x-python",
   "name": "python",
   "nbconvert_exporter": "python",
   "pygments_lexer": "ipython3",
   "version": "3.8.2"
  }
 },
 "nbformat": 4,
 "nbformat_minor": 4
}
